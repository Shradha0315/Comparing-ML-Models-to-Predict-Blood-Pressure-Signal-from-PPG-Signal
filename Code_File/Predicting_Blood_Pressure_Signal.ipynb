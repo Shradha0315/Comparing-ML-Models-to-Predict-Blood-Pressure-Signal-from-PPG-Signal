{
  "cells": [
    {
      "cell_type": "markdown",
      "source": [
        "# CA683 Assignment - Group 25\n",
        "## As part of this assignment we are trying to predict Arteial Blood Pressure (ABP) Signal from photoplethysmography (PPG) Signal. The prediction is implemented through different models. Root Mean Square Error (RMSE), Mean Absolute Error (MAE) and Mean Absolute Percentage Error (MAPE) are calculated for each model and used as evaluation parameters. The models are compared  based on these parameters.\n"
      ],
      "metadata": {
        "id": "e4Cz00FvhAAN"
      }
    },
    {
      "cell_type": "markdown",
      "source": [
        ""
      ],
      "metadata": {
        "id": "nnfKDFA8QlfZ"
      }
    },
    {
      "cell_type": "markdown",
      "source": [
        "## Mounting Google Drive to load the required files"
      ],
      "metadata": {
        "id": "QMnGgYtoh8df"
      }
    },
    {
      "cell_type": "code",
      "execution_count": 1,
      "metadata": {
        "colab": {
          "base_uri": "https://localhost:8080/"
        },
        "id": "riEYgOjmKEFB",
        "outputId": "441fc35c-4c57-40c2-cb68-51cf9c742126"
      },
      "outputs": [
        {
          "output_type": "stream",
          "name": "stdout",
          "text": [
            "Drive already mounted at /content/drive/; to attempt to forcibly remount, call drive.mount(\"/content/drive/\", force_remount=True).\n"
          ]
        }
      ],
      "source": [
        "from google.colab import drive\n",
        "drive.mount('/content/drive/')"
      ]
    },
    {
      "cell_type": "markdown",
      "source": [
        "## Importing Libraries"
      ],
      "metadata": {
        "id": "5EdoX1P8iCPE"
      }
    },
    {
      "cell_type": "code",
      "execution_count": 2,
      "metadata": {
        "id": "9m5vQX3xKMvx"
      },
      "outputs": [],
      "source": [
        "import scipy.io as sio\n",
        "import matplotlib.pyplot as plt\n",
        "import numpy as np\n",
        "import torch\n",
        "import os\n",
        "import warnings\n",
        "import tensorflow as tf\n",
        "from keras import layers\n",
        "from keras.models import Sequential\n",
        "from keras import optimizers\n",
        "from scipy import signal\n",
        "from sklearn.model_selection import KFold, train_test_split\n",
        "from sklearn.metrics import mean_squared_error\n",
        "warnings.filterwarnings('ignore')"
      ]
    },
    {
      "cell_type": "markdown",
      "source": [
        "## Providing Datapath of the mat files obtained from UCI. It consists of 8 mat files (3 X 63000)"
      ],
      "metadata": {
        "id": "IHJN5JHZiM-9"
      }
    },
    {
      "cell_type": "code",
      "execution_count": 3,
      "metadata": {
        "id": "G8IB7F6uKNEf"
      },
      "outputs": [],
      "source": [
        "datapath = '/content/drive/MyDrive/Kaggle/ABP_archive/'"
      ]
    },
    {
      "cell_type": "markdown",
      "source": [
        "## Defining Functions to load full and partial list of mat files"
      ],
      "metadata": {
        "id": "1OrFyghaiF7H"
      }
    },
    {
      "cell_type": "code",
      "execution_count": 4,
      "metadata": {
        "id": "N7qcBDcNKlwq"
      },
      "outputs": [],
      "source": [
        "def load_data_partial(filename):\n",
        "  mat_contents = sio.loadmat(filename) \n",
        "\n",
        "  return mat_contents"
      ]
    },
    {
      "cell_type": "code",
      "execution_count": 5,
      "metadata": {
        "id": "CGpKJnYhKvX3"
      },
      "outputs": [],
      "source": [
        "def load_data(fileDir, exercise):\n",
        "    word = exercise.lower()\n",
        "    file_path_list = []\n",
        "    valid_file_extensions = [\".mat\"]\n",
        "    valid_file_extensions = [item.lower() for item in valid_file_extensions]\n",
        "\n",
        "\n",
        "    for file in os.listdir(fileDir):\n",
        "        extension = os.path.splitext(file)[1]\n",
        "        if extension.lower() not in valid_file_extensions:\n",
        "            continue\n",
        "        file_path_list.append(os.path.join(fileDir, file))\n",
        "\n",
        "    Data = []\n",
        "    for path in file_path_list:\n",
        "        base=os.path.basename(path)\n",
        "        base = os.path.splitext(base)[0]\n",
        "        if word in base:\n",
        "            print(fileDir+'/%s'%(base))\n",
        "            mat_contents = sio.loadmat(fileDir+'/%s'%(base))\n",
        "            val = mat_contents['p']\n",
        "            total_array = val[0,:] #assigning an array\n",
        "            Data.append(total_array)\n",
        "\n",
        "    return Data"
      ]
    },
    {
      "cell_type": "markdown",
      "source": [
        "### Loading the MAT files"
      ],
      "metadata": {
        "id": "q1y69v-UJW_b"
      }
    },
    {
      "cell_type": "code",
      "execution_count": 6,
      "metadata": {
        "id": "EdIesOuBLIjX",
        "colab": {
          "base_uri": "https://localhost:8080/"
        },
        "outputId": "075c15db-3945-499e-9c32-2f292a41d7e7"
      },
      "outputs": [
        {
          "output_type": "stream",
          "name": "stdout",
          "text": [
            "/content/drive/MyDrive/Kaggle/ABP_archive//part_7\n",
            "/content/drive/MyDrive/Kaggle/ABP_archive//part_3\n",
            "/content/drive/MyDrive/Kaggle/ABP_archive//part_4\n",
            "/content/drive/MyDrive/Kaggle/ABP_archive//part_5\n",
            "/content/drive/MyDrive/Kaggle/ABP_archive//part_8\n",
            "/content/drive/MyDrive/Kaggle/ABP_archive//part_2\n",
            "/content/drive/MyDrive/Kaggle/ABP_archive//part_1\n",
            "/content/drive/MyDrive/Kaggle/ABP_archive//part_6\n"
          ]
        }
      ],
      "source": [
        "word = 'part'\n",
        "total_data = load_data(datapath, word)\n",
        "x =load_data_partial(datapath+str('part_1.mat'))"
      ]
    },
    {
      "cell_type": "code",
      "execution_count": 7,
      "metadata": {
        "colab": {
          "base_uri": "https://localhost:8080/"
        },
        "id": "ia8Sh0o47mAj",
        "outputId": "f57997b6-aceb-48c4-d422-fa940359e7cc"
      },
      "outputs": [
        {
          "output_type": "execute_result",
          "data": {
            "text/plain": [
              "dict_keys(['__header__', '__version__', '__globals__', 'p'])"
            ]
          },
          "metadata": {},
          "execution_count": 7
        }
      ],
      "source": [
        "x.keys()\n"
      ]
    },
    {
      "cell_type": "markdown",
      "source": [
        "### Plotting the ABP signal for 1000 samples (normalized values and scaled back values)"
      ],
      "metadata": {
        "id": "JtfzRLKvjBY2"
      }
    },
    {
      "cell_type": "code",
      "execution_count": 8,
      "metadata": {
        "colab": {
          "base_uri": "https://localhost:8080/",
          "height": 796
        },
        "id": "OTyEq2ZRtMiW",
        "outputId": "9401ff95-4d58-4b72-b29f-96a347df2eb1"
      },
      "outputs": [
        {
          "output_type": "stream",
          "name": "stdout",
          "text": [
            "(3, 61000)\n"
          ]
        },
        {
          "output_type": "execute_result",
          "data": {
            "text/plain": [
              "[<matplotlib.lines.Line2D at 0x7f334a161790>]"
            ]
          },
          "metadata": {},
          "execution_count": 8
        },
        {
          "output_type": "display_data",
          "data": {
            "text/plain": [
              "<Figure size 432x288 with 1 Axes>"
            ],
            "image/png": "[encoded data removed]"
          },
          "metadata": {
            "needs_background": "light"
          }
        },
        {
          "output_type": "display_data",
          "data": {
            "text/plain": [
              "<Figure size 432x288 with 1 Axes>"
            ],
            "image/png": "[encoded data removed]"
          },
          "metadata": {
            "needs_background": "light"
          }
        },
        {
          "output_type": "display_data",
          "data": {
            "text/plain": [
              "<Figure size 432x288 with 1 Axes>"
            ],
            "image/png": "[encoded data removed]"
          },
          "metadata": {
            "needs_background": "light"
          }
        }
      ],
      "source": [
        "abp_list = x['p'][0,1]\n",
        "print(abp_list.shape)\n",
        "abp = x['p'][0,1][1,:1000]\n",
        "\n",
        "\n",
        "x_max = max(abp_list[1,:])\n",
        "x_min = min(abp_list[1,:])\n",
        "\n",
        "\n",
        "plt.figure()\n",
        "plt.plot(abp)\n",
        "\n",
        "nrm_abp = (abp-x_min)/(x_max-x_min)  # Normalizing Data between 0 and 1\n",
        "plt.figure()\n",
        "plt.plot(nrm_abp)\n",
        "\n",
        "\n",
        "ret_abp = nrm_abp*(x_max - x_min) +x_min   #Reversed from normalized value\n",
        "plt.figure()\n",
        "plt.plot(ret_abp)"
      ]
    },
    {
      "cell_type": "markdown",
      "source": [
        "## Setting the configuration parameters for the models"
      ],
      "metadata": {
        "id": "v2lqaRlcJOIk"
      }
    },
    {
      "cell_type": "code",
      "execution_count": 9,
      "metadata": {
        "id": "vE8ux49MDP6c"
      },
      "outputs": [],
      "source": [
        "config = {\n",
        "    'seed': 77,\n",
        "    'sample_size': 1000,\n",
        "    'train_size': 3000000, # train on 3 million data points\n",
        "    'train_params':{\n",
        "        'batch_size':32,\n",
        "        'epochs': 50,\n",
        "        'learn_rate': 0.0001,#1e-3,\n",
        "    }\n",
        "}"
      ]
    },
    {
      "cell_type": "code",
      "execution_count": 10,
      "metadata": {
        "colab": {
          "base_uri": "https://localhost:8080/"
        },
        "id": "FTggjK_rHP31",
        "outputId": "32080a18-4f1a-4562-a735-2345e7b441e6"
      },
      "outputs": [
        {
          "output_type": "stream",
          "name": "stdout",
          "text": [
            "INFO:tensorflow:Deallocate tpu buffers before initializing tpu system.\n"
          ]
        },
        {
          "output_type": "stream",
          "name": "stderr",
          "text": [
            "INFO:tensorflow:Deallocate tpu buffers before initializing tpu system.\n"
          ]
        },
        {
          "output_type": "stream",
          "name": "stdout",
          "text": [
            "INFO:tensorflow:Initializing the TPU system: grpc://10.81.236.2:8470\n"
          ]
        },
        {
          "output_type": "stream",
          "name": "stderr",
          "text": [
            "INFO:tensorflow:Initializing the TPU system: grpc://10.81.236.2:8470\n"
          ]
        },
        {
          "output_type": "stream",
          "name": "stdout",
          "text": [
            "INFO:tensorflow:Finished initializing TPU system.\n"
          ]
        },
        {
          "output_type": "stream",
          "name": "stderr",
          "text": [
            "INFO:tensorflow:Finished initializing TPU system.\n",
            "WARNING:absl:`tf.distribute.experimental.TPUStrategy` is deprecated, please use  the non experimental symbol `tf.distribute.TPUStrategy` instead.\n"
          ]
        },
        {
          "output_type": "stream",
          "name": "stdout",
          "text": [
            "INFO:tensorflow:Found TPU system:\n"
          ]
        },
        {
          "output_type": "stream",
          "name": "stderr",
          "text": [
            "INFO:tensorflow:Found TPU system:\n"
          ]
        },
        {
          "output_type": "stream",
          "name": "stdout",
          "text": [
            "INFO:tensorflow:*** Num TPU Cores: 8\n"
          ]
        },
        {
          "output_type": "stream",
          "name": "stderr",
          "text": [
            "INFO:tensorflow:*** Num TPU Cores: 8\n"
          ]
        },
        {
          "output_type": "stream",
          "name": "stdout",
          "text": [
            "INFO:tensorflow:*** Num TPU Workers: 1\n"
          ]
        },
        {
          "output_type": "stream",
          "name": "stderr",
          "text": [
            "INFO:tensorflow:*** Num TPU Workers: 1\n"
          ]
        },
        {
          "output_type": "stream",
          "name": "stdout",
          "text": [
            "INFO:tensorflow:*** Num TPU Cores Per Worker: 8\n"
          ]
        },
        {
          "output_type": "stream",
          "name": "stderr",
          "text": [
            "INFO:tensorflow:*** Num TPU Cores Per Worker: 8\n"
          ]
        },
        {
          "output_type": "stream",
          "name": "stdout",
          "text": [
            "INFO:tensorflow:*** Available Device: _DeviceAttributes(/job:localhost/replica:0/task:0/device:CPU:0, CPU, 0, 0)\n"
          ]
        },
        {
          "output_type": "stream",
          "name": "stderr",
          "text": [
            "INFO:tensorflow:*** Available Device: _DeviceAttributes(/job:localhost/replica:0/task:0/device:CPU:0, CPU, 0, 0)\n"
          ]
        },
        {
          "output_type": "stream",
          "name": "stdout",
          "text": [
            "INFO:tensorflow:*** Available Device: _DeviceAttributes(/job:worker/replica:0/task:0/device:CPU:0, CPU, 0, 0)\n"
          ]
        },
        {
          "output_type": "stream",
          "name": "stderr",
          "text": [
            "INFO:tensorflow:*** Available Device: _DeviceAttributes(/job:worker/replica:0/task:0/device:CPU:0, CPU, 0, 0)\n"
          ]
        },
        {
          "output_type": "stream",
          "name": "stdout",
          "text": [
            "INFO:tensorflow:*** Available Device: _DeviceAttributes(/job:worker/replica:0/task:0/device:TPU:0, TPU, 0, 0)\n"
          ]
        },
        {
          "output_type": "stream",
          "name": "stderr",
          "text": [
            "INFO:tensorflow:*** Available Device: _DeviceAttributes(/job:worker/replica:0/task:0/device:TPU:0, TPU, 0, 0)\n"
          ]
        },
        {
          "output_type": "stream",
          "name": "stdout",
          "text": [
            "INFO:tensorflow:*** Available Device: _DeviceAttributes(/job:worker/replica:0/task:0/device:TPU:1, TPU, 0, 0)\n"
          ]
        },
        {
          "output_type": "stream",
          "name": "stderr",
          "text": [
            "INFO:tensorflow:*** Available Device: _DeviceAttributes(/job:worker/replica:0/task:0/device:TPU:1, TPU, 0, 0)\n"
          ]
        },
        {
          "output_type": "stream",
          "name": "stdout",
          "text": [
            "INFO:tensorflow:*** Available Device: _DeviceAttributes(/job:worker/replica:0/task:0/device:TPU:2, TPU, 0, 0)\n"
          ]
        },
        {
          "output_type": "stream",
          "name": "stderr",
          "text": [
            "INFO:tensorflow:*** Available Device: _DeviceAttributes(/job:worker/replica:0/task:0/device:TPU:2, TPU, 0, 0)\n"
          ]
        },
        {
          "output_type": "stream",
          "name": "stdout",
          "text": [
            "INFO:tensorflow:*** Available Device: _DeviceAttributes(/job:worker/replica:0/task:0/device:TPU:3, TPU, 0, 0)\n"
          ]
        },
        {
          "output_type": "stream",
          "name": "stderr",
          "text": [
            "INFO:tensorflow:*** Available Device: _DeviceAttributes(/job:worker/replica:0/task:0/device:TPU:3, TPU, 0, 0)\n"
          ]
        },
        {
          "output_type": "stream",
          "name": "stdout",
          "text": [
            "INFO:tensorflow:*** Available Device: _DeviceAttributes(/job:worker/replica:0/task:0/device:TPU:4, TPU, 0, 0)\n"
          ]
        },
        {
          "output_type": "stream",
          "name": "stderr",
          "text": [
            "INFO:tensorflow:*** Available Device: _DeviceAttributes(/job:worker/replica:0/task:0/device:TPU:4, TPU, 0, 0)\n"
          ]
        },
        {
          "output_type": "stream",
          "name": "stdout",
          "text": [
            "INFO:tensorflow:*** Available Device: _DeviceAttributes(/job:worker/replica:0/task:0/device:TPU:5, TPU, 0, 0)\n"
          ]
        },
        {
          "output_type": "stream",
          "name": "stderr",
          "text": [
            "INFO:tensorflow:*** Available Device: _DeviceAttributes(/job:worker/replica:0/task:0/device:TPU:5, TPU, 0, 0)\n"
          ]
        },
        {
          "output_type": "stream",
          "name": "stdout",
          "text": [
            "INFO:tensorflow:*** Available Device: _DeviceAttributes(/job:worker/replica:0/task:0/device:TPU:6, TPU, 0, 0)\n"
          ]
        },
        {
          "output_type": "stream",
          "name": "stderr",
          "text": [
            "INFO:tensorflow:*** Available Device: _DeviceAttributes(/job:worker/replica:0/task:0/device:TPU:6, TPU, 0, 0)\n"
          ]
        },
        {
          "output_type": "stream",
          "name": "stdout",
          "text": [
            "INFO:tensorflow:*** Available Device: _DeviceAttributes(/job:worker/replica:0/task:0/device:TPU:7, TPU, 0, 0)\n"
          ]
        },
        {
          "output_type": "stream",
          "name": "stderr",
          "text": [
            "INFO:tensorflow:*** Available Device: _DeviceAttributes(/job:worker/replica:0/task:0/device:TPU:7, TPU, 0, 0)\n"
          ]
        },
        {
          "output_type": "stream",
          "name": "stdout",
          "text": [
            "INFO:tensorflow:*** Available Device: _DeviceAttributes(/job:worker/replica:0/task:0/device:TPU_SYSTEM:0, TPU_SYSTEM, 0, 0)\n"
          ]
        },
        {
          "output_type": "stream",
          "name": "stderr",
          "text": [
            "INFO:tensorflow:*** Available Device: _DeviceAttributes(/job:worker/replica:0/task:0/device:TPU_SYSTEM:0, TPU_SYSTEM, 0, 0)\n"
          ]
        },
        {
          "output_type": "stream",
          "name": "stdout",
          "text": [
            "INFO:tensorflow:*** Available Device: _DeviceAttributes(/job:worker/replica:0/task:0/device:XLA_CPU:0, XLA_CPU, 0, 0)\n"
          ]
        },
        {
          "output_type": "stream",
          "name": "stderr",
          "text": [
            "INFO:tensorflow:*** Available Device: _DeviceAttributes(/job:worker/replica:0/task:0/device:XLA_CPU:0, XLA_CPU, 0, 0)\n"
          ]
        },
        {
          "output_type": "stream",
          "name": "stdout",
          "text": [
            "Number of Replicas: 8\n"
          ]
        }
      ],
      "source": [
        "# Initializing TPU\n",
        "tpu = tf.distribute.cluster_resolver.TPUClusterResolver()\n",
        "tf.config.experimental_connect_to_cluster(tpu)\n",
        "tf.tpu.experimental.initialize_tpu_system(tpu)\n",
        "\n",
        "# Instantiate distribution strategy\n",
        "tpu_strategy = tf.distribute.experimental.TPUStrategy(tpu)\n",
        "    \n",
        "auto = tf.data.experimental.AUTOTUNE\n",
        "replicas = tpu_strategy.num_replicas_in_sync\n",
        "Batch_size = config['train_params']['batch_size'] * replicas\n",
        "print(f'Number of Replicas: {replicas}')"
      ]
    },
    {
      "cell_type": "code",
      "execution_count": 11,
      "metadata": {
        "id": "jKEhmoJ8Kv0N"
      },
      "outputs": [],
      "source": [
        "def SetSeed(seed=None):\n",
        "    \"\"\"Set seed for reproducibility.\"\"\"\n",
        "    tf.random.set_seed(seed)\n",
        "    np.random.seed(seed)\n",
        "    \n",
        "SetSeed(seed=config['seed'])"
      ]
    },
    {
      "cell_type": "code",
      "source": [
        "print(len(total_data))\n",
        "print(len(total_data[1]))\n",
        "print(total_data[1][1].shape)"
      ],
      "metadata": {
        "colab": {
          "base_uri": "https://localhost:8080/"
        },
        "id": "tMnypoVCi_G6",
        "outputId": "741a22fe-fae8-4114-ff70-63b0bf7b6858"
      },
      "execution_count": 12,
      "outputs": [
        {
          "output_type": "stream",
          "name": "stdout",
          "text": [
            "8\n",
            "1000\n",
            "(3, 8000)\n"
          ]
        }
      ]
    },
    {
      "cell_type": "code",
      "source": [
        "print(total_data[0][1])"
      ],
      "metadata": {
        "colab": {
          "base_uri": "https://localhost:8080/"
        },
        "id": "qiPz7z3JAs3_",
        "outputId": "c7caf197-2a13-41bd-da9a-416160ed7f1c"
      },
      "execution_count": 13,
      "outputs": [
        {
          "output_type": "stream",
          "name": "stdout",
          "text": [
            "[[ 0.31671554  0.34213099  0.37438905 ...  0.72825024  0.71945259\n",
            "   0.70772239]\n",
            " [87.02743613 86.83186886 86.83186886 ... 73.92442889 73.53329435\n",
            "  72.94659253]\n",
            " [ 0.58039216  0.58039216  0.59019608 ...  0.53921569  0.52941176\n",
            "   0.51960784]]\n"
          ]
        }
      ]
    },
    {
      "cell_type": "markdown",
      "source": [
        "## Feature Extraction: Extracting PPG ,ECG and ABP values from total_data"
      ],
      "metadata": {
        "id": "1shKjnuSJJC8"
      }
    },
    {
      "cell_type": "code",
      "source": [
        "PPG = []\n",
        "ABP = []\n",
        "ECG = []\n",
        "i=0\n",
        "for j in range(len(total_data[i])):\n",
        "  k = len(total_data[i][j][0,:])\n",
        "  for n in range(k//1000):\n",
        "      ppg = (total_data[i][j][0,(n*1000):(n*1000)+1000]) # Extracting PPG values\n",
        "      abp = (total_data[i][j][1,(n*1000):(n*1000)+1000]) #Extracting ABP values\n",
        "      ecg = (total_data[i][j][2,(n*1000):(n*1000)+1000]) #Extracting ECG values\n",
        "      PPG.append(ppg)\n",
        "      ABP.append(abp)\n",
        "      ECG.append(ecg)\n",
        "\n",
        "# Converting list of PPG,ECG and ABP as array\n",
        "PPG = np.asarray(PPG)\n",
        "ABP = np.asarray(ABP)\n",
        "ECG = np.asarray(ECG)\n"
      ],
      "metadata": {
        "id": "QygPFZwoARqa"
      },
      "execution_count": 14,
      "outputs": []
    },
    {
      "cell_type": "code",
      "source": [
        "PPG"
      ],
      "metadata": {
        "colab": {
          "base_uri": "https://localhost:8080/"
        },
        "id": "kgXWjGQgBAJC",
        "outputId": "cb4eb97c-c221-4881-8003-f29c6249d960"
      },
      "execution_count": 15,
      "outputs": [
        {
          "output_type": "execute_result",
          "data": {
            "text/plain": [
              "array([[0.52199413, 0.50733138, 0.49462366, ..., 0.34213099, 0.33822092,\n",
              "        0.33431085],\n",
              "       [0.33040078, 0.3255132 , 0.32062561, ..., 0.43108504, 0.42424242,\n",
              "        0.41837732],\n",
              "       [0.4115347 , 0.40469208, 0.39882698, ..., 0.59042033, 0.57380254,\n",
              "        0.55718475],\n",
              "       ...,\n",
              "       [1.53176931, 1.51319648, 1.49364614, ..., 1.57380254, 1.66568915,\n",
              "        1.77908113],\n",
              "       [1.7370479 , 1.70381232, 1.6744868 , ..., 1.34115347, 1.33919844,\n",
              "        1.33822092],\n",
              "       [2.88367546, 2.8973607 , 2.90322581, ..., 2.71652004, 2.64125122,\n",
              "        2.5601173 ]])"
            ]
          },
          "metadata": {},
          "execution_count": 15
        }
      ]
    },
    {
      "cell_type": "code",
      "source": [
        "PPG.shape"
      ],
      "metadata": {
        "colab": {
          "base_uri": "https://localhost:8080/"
        },
        "id": "nYCfa1gDBH-k",
        "outputId": "1d03bd01-5c93-4f99-9b06-2d11affbbb62"
      },
      "execution_count": 16,
      "outputs": [
        {
          "output_type": "execute_result",
          "data": {
            "text/plain": [
              "(15486, 1000)"
            ]
          },
          "metadata": {},
          "execution_count": 16
        }
      ]
    },
    {
      "cell_type": "code",
      "source": [
        "len(PPG)"
      ],
      "metadata": {
        "colab": {
          "base_uri": "https://localhost:8080/"
        },
        "id": "zfPUpoetBJF1",
        "outputId": "166f48a0-7284-49e8-b803-eb19106c6e80"
      },
      "execution_count": 17,
      "outputs": [
        {
          "output_type": "execute_result",
          "data": {
            "text/plain": [
              "15486"
            ]
          },
          "metadata": {},
          "execution_count": 17
        }
      ]
    },
    {
      "cell_type": "markdown",
      "source": [
        "### Plotting graphs for PPG,ECG and ABP signals"
      ],
      "metadata": {
        "id": "vdMo0mskl3E_"
      }
    },
    {
      "cell_type": "code",
      "source": [
        "# ##plotting sample  ppg, ecg and bp signals\n",
        "# ##using a sample size of 1000\n",
        "fig, ax = plt.subplots(3,1, figsize=(9,12), sharex=True)\n",
        "y = 1000\n",
        "ax[0].set_title('PPG graph', fontsize=16)\n",
        "ax[0].set_ylabel('Signal Value')\n",
        "ax[0].plot(PPG[y,:], c = 'dodgerblue')\n",
        "\n",
        "ax[1].set_title('ECG graph', fontsize=16)\n",
        "ax[1].set_ylabel('Signal Value')\n",
        "ax[1].plot(ECG[y,:], c='darkorange')\n",
        "\n",
        "ax[2].set_title('Blood Pressure (BP) graph', fontsize=16)\n",
        "ax[2].set_ylabel('Signal Value')\n",
        "ax[2].set_xlabel('Sample size')\n",
        "ax[2].plot(ABP[y,:], c = 'red')"
      ],
      "metadata": {
        "colab": {
          "base_uri": "https://localhost:8080/",
          "height": 750
        },
        "id": "WQ55P78YBXeF",
        "outputId": "86ce04e5-0eec-4870-8933-b8f4d2631c76"
      },
      "execution_count": 18,
      "outputs": [
        {
          "output_type": "execute_result",
          "data": {
            "text/plain": [
              "[<matplotlib.lines.Line2D at 0x7f33177197d0>]"
            ]
          },
          "metadata": {},
          "execution_count": 18
        },
        {
          "output_type": "display_data",
          "data": {
            "text/plain": [
              "<Figure size 648x864 with 3 Axes>"
            ],
            "image/png": "[encoded data removed]"
          },
          "metadata": {
            "needs_background": "light"
          }
        }
      ]
    },
    {
      "cell_type": "markdown",
      "source": [
        "## Splitting the data into 70% train and 30% test\n",
        "\n",
        "**Input** : * PPG values*\n",
        "\n",
        "**Output**:  *ABP values*"
      ],
      "metadata": {
        "id": "FEhvN3F4kEc4"
      }
    },
    {
      "cell_type": "code",
      "source": [
        "# creating train and val sets\n",
        "X_train1, X_test1, y_train1, y_test1 = train_test_split(PPG, ABP, test_size=0.30)"
      ],
      "metadata": {
        "id": "FthEkKjfBlL9"
      },
      "execution_count": 19,
      "outputs": []
    },
    {
      "cell_type": "code",
      "source": [
        "X_train1"
      ],
      "metadata": {
        "colab": {
          "base_uri": "https://localhost:8080/"
        },
        "id": "5kevZpldBrsx",
        "outputId": "18ccc862-fb0a-46aa-c7f7-fbef685cbf71"
      },
      "execution_count": 20,
      "outputs": [
        {
          "output_type": "execute_result",
          "data": {
            "text/plain": [
              "array([[1.80449658, 1.76735093, 1.73313783, ..., 1.29423265, 1.41642229,\n",
              "        1.55034213],\n",
              "       [2.90615836, 2.86999022, 2.83870968, ..., 2.07526882, 2.0342131 ,\n",
              "        1.9941349 ],\n",
              "       [0.33626588, 0.3313783 , 0.32746823, ..., 0.35190616, 0.34604106,\n",
              "        0.34115347],\n",
              "       ...,\n",
              "       [2.15640274, 2.09481916, 2.03519062, ..., 1.84359726, 1.78494624,\n",
              "        1.73313783],\n",
              "       [1.14076246, 1.12707722, 1.1143695 , ..., 1.07526882, 1.07135875,\n",
              "        1.06744868],\n",
              "       [2.24046921, 2.18670577, 2.13489736, ..., 2.81427175, 2.76246334,\n",
              "        2.7028348 ]])"
            ]
          },
          "metadata": {},
          "execution_count": 20
        }
      ]
    },
    {
      "cell_type": "code",
      "source": [
        "y_train1"
      ],
      "metadata": {
        "colab": {
          "base_uri": "https://localhost:8080/"
        },
        "id": "WjPFG3H2Bsgx",
        "outputId": "97bf0049-0086-4be8-d031-adccdfe77406"
      },
      "execution_count": 21,
      "outputs": [
        {
          "output_type": "execute_result",
          "data": {
            "text/plain": [
              "array([[ 71.06817172,  70.72626299,  70.43319836, ...,  91.4361632 ,\n",
              "         90.55696932,  89.48239903],\n",
              "       [ 69.21078272,  68.9509581 ,  68.69113348, ...,  64.01429035,\n",
              "         63.9493342 ,  63.75446574],\n",
              "       [ 57.30121076,  58.86574893,  61.79925802, ...,  58.86574893,\n",
              "         59.64801802,  61.60369075],\n",
              "       ...,\n",
              "       [ 68.08868136,  67.60024031,  67.11179927, ...,  59.58980721,\n",
              "         58.66176923,  57.78257535],\n",
              "       [ 86.39536724,  95.36313602, 104.74119488, ..., 128.2449549 ,\n",
              "        125.19708577, 121.97337804],\n",
              "       [ 61.7877919 ,  61.44588317,  61.10397444, ...,  68.82134292,\n",
              "         67.99099315,  67.30717569]])"
            ]
          },
          "metadata": {},
          "execution_count": 21
        }
      ]
    },
    {
      "cell_type": "markdown",
      "source": [
        "## Linear Model without Normalizing PPG,ECG and ABP values"
      ],
      "metadata": {
        "id": "c2UROHCeIc4j"
      }
    },
    {
      "cell_type": "code",
      "source": [
        "#Linear Regression with Values of PPG\n",
        "import numpy as np\n",
        "from sklearn.linear_model import LinearRegression\n",
        "linear_model_std = LinearRegression()\n",
        "linear_model_std.fit(X_train1, y_train1)"
      ],
      "metadata": {
        "colab": {
          "base_uri": "https://localhost:8080/"
        },
        "id": "Raya9FJyB7_j",
        "outputId": "514c7472-30ff-44b1-b150-fa567adbc615"
      },
      "execution_count": 22,
      "outputs": [
        {
          "output_type": "execute_result",
          "data": {
            "text/plain": [
              "LinearRegression()"
            ]
          },
          "metadata": {},
          "execution_count": 22
        }
      ]
    },
    {
      "cell_type": "code",
      "source": [
        "# Prediction of BP values from PPG values using LR model\n",
        "y_pred1 = linear_model_std.predict(X_test1)"
      ],
      "metadata": {
        "id": "Ox5xpS50CJHM"
      },
      "execution_count": 23,
      "outputs": []
    },
    {
      "cell_type": "code",
      "source": [
        "#Caculation of RMSE\n",
        "rmse= np.sqrt(np.mean((y_pred1-y_test1)**2))\n",
        "print(f'LR standard model RMSE is: {rmse}')"
      ],
      "metadata": {
        "colab": {
          "base_uri": "https://localhost:8080/"
        },
        "id": "hvAAGl-mCM7b",
        "outputId": "65cede65-e73a-425c-81ec-0baeea96d672"
      },
      "execution_count": 24,
      "outputs": [
        {
          "output_type": "stream",
          "name": "stdout",
          "text": [
            "LR standard model RMSE is: 21.979865099496564\n"
          ]
        }
      ]
    },
    {
      "cell_type": "code",
      "source": [
        "#Checking MAE error for LR model (not normalized input and output)\n",
        "LR_std__MAE= tf.keras.metrics.MeanAbsoluteError()\n",
        "LR_std__MAE.update_state(y_test1, y_pred1)\n",
        "print(f'LR_std_Model MAE: {LR_std__MAE.result().numpy()}')"
      ],
      "metadata": {
        "colab": {
          "base_uri": "https://localhost:8080/"
        },
        "id": "ksE-Mhf5GFoM",
        "outputId": "5aeca81a-2b7f-44df-ed7e-3eddf80feaa4"
      },
      "execution_count": 25,
      "outputs": [
        {
          "output_type": "stream",
          "name": "stdout",
          "text": [
            "LR_std_Model MAE: 14.538209915161133\n"
          ]
        }
      ]
    },
    {
      "cell_type": "code",
      "source": [
        "# Checking if y_test1 and y_pred1 have any NaN values\n",
        "print(len(y_test1))\n",
        "print(len(y_pred1))\n",
        "print(np.isnan(y_test1).any())\n",
        "print(np.isnan(y_pred1).any())\n",
        "print(np.argwhere(np.isnan(y_test1)))"
      ],
      "metadata": {
        "colab": {
          "base_uri": "https://localhost:8080/"
        },
        "id": "XN606bYuGWvJ",
        "outputId": "be4c4c2f-ea8a-4de9-8394-c600f5e13b2d"
      },
      "execution_count": 26,
      "outputs": [
        {
          "output_type": "stream",
          "name": "stdout",
          "text": [
            "4646\n",
            "4646\n",
            "False\n",
            "False\n",
            "[]\n"
          ]
        }
      ]
    },
    {
      "cell_type": "code",
      "source": [
        "#Checking Mean Arterial Pressure for LR model\n",
        "score = []\n",
        "for i in range(len(y_test1)):\n",
        "  score.append(abs(y_test1[i]-y_pred1[i]))\n",
        "\n",
        "print(\"Average MAP error for LR standard model is: %f mmHG\" %(np.mean(score)))\n",
        "print(\"Average Standard Deviation for LR standard model is: %f mmHG\" %(np.std(score)))"
      ],
      "metadata": {
        "colab": {
          "base_uri": "https://localhost:8080/"
        },
        "id": "j0fxXUzHHO_e",
        "outputId": "3af33342-b10e-4df4-c0dd-66b36ffecdb6"
      },
      "execution_count": 89,
      "outputs": [
        {
          "output_type": "stream",
          "name": "stdout",
          "text": [
            "Average MAP error for LR standard model is: 14.538211 mmHG\n",
            "Average Standard Deviation for LR standard model is: 16.484990 mmHG\n"
          ]
        }
      ]
    },
    {
      "cell_type": "markdown",
      "source": [
        "### Plotting graph for True vs Predicted BP values using LR model \n",
        "\n",
        "(without Normalizing PPG and BP values)"
      ],
      "metadata": {
        "id": "8VPQtrMGmvv-"
      }
    },
    {
      "cell_type": "code",
      "source": [
        "# Visualize predicted BP and the True BP in standard Linear Model\n",
        "plt.title(\"===True BP values Vs Predicted BP values in standard LR Model===\")\n",
        "plt.xlabel('Number of samples taken')\n",
        "plt.ylabel('BP values')\n",
        "plt.plot(y_test1[1000,:]) #only plotting 100 samples\n",
        "plt.plot(y_pred1[1000,:])\n",
        "plt.legend(['True_BP', 'Predicted_BP'])"
      ],
      "metadata": {
        "colab": {
          "base_uri": "https://localhost:8080/",
          "height": 312
        },
        "id": "Km1AtvWZCnXt",
        "outputId": "4058dc86-477f-4850-c02e-cf83181b9dd1"
      },
      "execution_count": 28,
      "outputs": [
        {
          "output_type": "execute_result",
          "data": {
            "text/plain": [
              "<matplotlib.legend.Legend at 0x7f331167cb90>"
            ]
          },
          "metadata": {},
          "execution_count": 28
        },
        {
          "output_type": "display_data",
          "data": {
            "text/plain": [
              "<Figure size 432x288 with 1 Axes>"
            ],
            "image/png": "[encoded data removed]"
          },
          "metadata": {
            "needs_background": "light"
          }
        }
      ]
    },
    {
      "cell_type": "markdown",
      "source": [
        "## Defining Function to Normalize the PPG and ABP values"
      ],
      "metadata": {
        "id": "nshr5dpSIl4a"
      }
    },
    {
      "cell_type": "code",
      "source": [
        "def normalise(x):\n",
        "  normalised = (x-min(x))/(max(x)-min(x))\n",
        "  return normalised\n",
        "\n",
        "def scale_abp(x):\n",
        "  normalised = x/200\n",
        "  return normalised\n",
        "\n",
        "def normalise_abp(abp, x_max, x_min):\n",
        "  normalised = (abp-x_min)/(x_max-x_min)\n",
        "  return normalised\n",
        "\n",
        "def abp_maxmin_value(x):\n",
        "  max_x = []\n",
        "  min_x = []\n",
        "  for i in range(len(x)):\n",
        "    for j in range(len(x[i])):\n",
        "      max_x.append(max(x[i][j][1,:]))\n",
        "      min_x.append(min(x[i][j][1,:]))\n",
        "  x_max = max(max_x)\n",
        "  x_min = min(min_x)\n",
        "\n",
        "  return x_max, x_min"
      ],
      "metadata": {
        "id": "2nqKzu8cAxEl"
      },
      "execution_count": 29,
      "outputs": []
    },
    {
      "cell_type": "markdown",
      "source": [
        "### Checking Minimum and Maximum values in total_data"
      ],
      "metadata": {
        "id": "u0_2OG4kkr9X"
      }
    },
    {
      "cell_type": "code",
      "source": [
        "x_max, x_min = abp_maxmin_value(total_data)\n",
        "print(x_max, x_min)\n",
        "x_max = 200.0\n",
        "x_min = 50.0"
      ],
      "metadata": {
        "colab": {
          "base_uri": "https://localhost:8080/"
        },
        "id": "oYkK2RIVA0ge",
        "outputId": "4aa0f823-5b29-4195-cac2-c958b11f85f8"
      },
      "execution_count": 30,
      "outputs": [
        {
          "output_type": "stream",
          "name": "stdout",
          "text": [
            "199.98749589709124 50.0\n"
          ]
        }
      ]
    },
    {
      "cell_type": "markdown",
      "source": [
        "## Feature Extraction and Feature Scaling: Extracting PPG ,ECG and ABP values from total_data and normalizing them"
      ],
      "metadata": {
        "id": "Ue_9_WXnIr9c"
      }
    },
    {
      "cell_type": "code",
      "execution_count": 31,
      "metadata": {
        "id": "w4b_2i8qLGQs"
      },
      "outputs": [],
      "source": [
        "# #Data Pre-processing\n",
        "# # Extracting signal data Feature-extraction\n",
        "PPG_N = []\n",
        "ABP_N = []\n",
        "ECG_N = []\n",
        "i=0\n",
        "for j in range(len(total_data[i])):\n",
        "  k = len(total_data[i][j][0,:])\n",
        "  for n in range(k//1000):\n",
        "      ppg_n = normalise(total_data[i][j][0,(n*1000):(n*1000)+1000])\n",
        "      abp_n = normalise_abp(total_data[i][j][1,(n*1000):(n*1000)+1000], x_max, x_min)\n",
        "      ecg_n = normalise(total_data[i][j][2,(n*1000):(n*1000)+1000])\n",
        "      PPG_N.append(ppg_n)\n",
        "      ABP_N.append(abp_n)\n",
        "      ECG_N.append(ecg_n)\n",
        "\n",
        "\n",
        "PPG_N = np.asarray(PPG_N)\n",
        "ABP_N = np.asarray(ABP_N)\n",
        "ECG_N = np.asarray(ECG_N)\n"
      ]
    },
    {
      "cell_type": "code",
      "source": [
        "PPG_N"
      ],
      "metadata": {
        "colab": {
          "base_uri": "https://localhost:8080/"
        },
        "id": "1XPy7e2skE9Q",
        "outputId": "7ab72d5e-f623-4850-a091-755855da5ab7"
      },
      "execution_count": 32,
      "outputs": [
        {
          "output_type": "execute_result",
          "data": {
            "text/plain": [
              "array([[0.55617978, 0.52808989, 0.50374532, ..., 0.21161049, 0.20411985,\n",
              "        0.19662921],\n",
              "       [0.16763006, 0.15799615, 0.14836224, ..., 0.36608863, 0.35260116,\n",
              "        0.34104046],\n",
              "       [0.35985533, 0.34719711, 0.3363472 , ..., 0.69077758, 0.66003617,\n",
              "        0.62929476],\n",
              "       ...,\n",
              "       [0.29273897, 0.28400735, 0.27481618, ..., 0.3125    , 0.35569853,\n",
              "        0.40900735],\n",
              "       [0.3841629 , 0.36877828, 0.35520362, ..., 0.20090498, 0.2       ,\n",
              "        0.19954751],\n",
              "       [0.91083618, 0.91680887, 0.9193686 , ..., 0.83788396, 0.80503413,\n",
              "        0.76962457]])"
            ]
          },
          "metadata": {},
          "execution_count": 32
        }
      ]
    },
    {
      "cell_type": "code",
      "source": [
        "PPG_N.shape"
      ],
      "metadata": {
        "colab": {
          "base_uri": "https://localhost:8080/"
        },
        "id": "-xnyJCCmuE-8",
        "outputId": "df731bc0-5da8-4c3b-9e66-0a8751b9b433"
      },
      "execution_count": 33,
      "outputs": [
        {
          "output_type": "execute_result",
          "data": {
            "text/plain": [
              "(15486, 1000)"
            ]
          },
          "metadata": {},
          "execution_count": 33
        }
      ]
    },
    {
      "cell_type": "code",
      "source": [
        "len(PPG_N)"
      ],
      "metadata": {
        "colab": {
          "base_uri": "https://localhost:8080/"
        },
        "id": "I2RRawtduMMP",
        "outputId": "1f8204b5-0aa6-4a3f-b81b-023d15d58a7a"
      },
      "execution_count": 34,
      "outputs": [
        {
          "output_type": "execute_result",
          "data": {
            "text/plain": [
              "15486"
            ]
          },
          "metadata": {},
          "execution_count": 34
        }
      ]
    },
    {
      "cell_type": "markdown",
      "source": [
        "### Plotting graphs for Normalized PPG,ECG and ABP signals"
      ],
      "metadata": {
        "id": "GXxT8HiumNAO"
      }
    },
    {
      "cell_type": "code",
      "execution_count": 35,
      "metadata": {
        "colab": {
          "base_uri": "https://localhost:8080/",
          "height": 750
        },
        "id": "PWdfOBOkL-2T",
        "outputId": "e8f66c44-bb3a-4ab4-d9aa-98a7e94a2b40"
      },
      "outputs": [
        {
          "output_type": "execute_result",
          "data": {
            "text/plain": [
              "[<matplotlib.lines.Line2D at 0x7f3310c99a10>]"
            ]
          },
          "metadata": {},
          "execution_count": 35
        },
        {
          "output_type": "display_data",
          "data": {
            "text/plain": [
              "<Figure size 648x864 with 3 Axes>"
            ],
            "image/png": "[encoded data removed]"
          },
          "metadata": {
            "needs_background": "light"
          }
        }
      ],
      "source": [
        "# ##plotting sample normalized ppg, ecg and bp signals\n",
        "# ##using a sample size of 125\n",
        "fig, ax = plt.subplots(3,1, figsize=(9,12), sharex=True)\n",
        "y = 1000\n",
        "ax[0].set_title('Normalized PPG graph', fontsize=16)\n",
        "ax[0].set_ylabel('Signal Value')\n",
        "ax[0].plot(PPG_N[y,:], c = 'dodgerblue')\n",
        "\n",
        "ax[1].set_title('Normalized ECG graph', fontsize=16)\n",
        "ax[1].set_ylabel('Signal Value')\n",
        "ax[1].plot(ECG_N[y,:], c='darkorange')\n",
        "\n",
        "ax[2].set_title('Normalized Blood Pressure (ABP) graph', fontsize=16)\n",
        "ax[2].set_ylabel('Signal Value')\n",
        "ax[2].set_xlabel('Sample size')\n",
        "ax[2].plot(ABP_N[y,:], c = 'red')"
      ]
    },
    {
      "cell_type": "markdown",
      "source": [
        "## Splitting the normalized data into 70% train and 30% test \n",
        "**Input** : *Normalized PPG values*\n",
        "\n",
        "**Output**: *Normalized ABP values*"
      ],
      "metadata": {
        "id": "JHH_BHcGmXjE"
      }
    },
    {
      "cell_type": "code",
      "execution_count": 36,
      "metadata": {
        "id": "CrO3queiMIqj"
      },
      "outputs": [],
      "source": [
        "# creating train and val sets\n",
        "X_train, X_test, y_train, y_test = train_test_split(PPG_N, ABP_N, test_size=0.30)"
      ]
    },
    {
      "cell_type": "code",
      "execution_count": 37,
      "metadata": {
        "colab": {
          "base_uri": "https://localhost:8080/"
        },
        "id": "KjmfPFAylPvv",
        "outputId": "e1c989eb-91ad-4a0d-e4ec-469d2c03e3a9"
      },
      "outputs": [
        {
          "output_type": "execute_result",
          "data": {
            "text/plain": [
              "array([[0.13193117, 0.12619503, 0.12045889, ..., 0.10516252, 0.09942639,\n",
              "        0.09560229],\n",
              "       [0.19972388, 0.19466176, 0.18913944, ..., 0.42797975, 0.38840313,\n",
              "        0.35112747],\n",
              "       [0.75961538, 0.82600733, 0.8768315 , ..., 0.41712454, 0.38049451,\n",
              "        0.34661172],\n",
              "       ...,\n",
              "       [1.        , 1.        , 0.99437148, ..., 0.77485929, 0.82363977,\n",
              "        0.86491557],\n",
              "       [0.43373494, 0.5060241 , 0.57487091, ..., 0.33907057, 0.33046472,\n",
              "        0.32358003],\n",
              "       [0.09082734, 0.08678058, 0.08183453, ..., 0.78417266, 0.80710432,\n",
              "        0.82239209]])"
            ]
          },
          "metadata": {},
          "execution_count": 37
        }
      ],
      "source": [
        "X_train"
      ]
    },
    {
      "cell_type": "code",
      "source": [
        "X_train.shape"
      ],
      "metadata": {
        "colab": {
          "base_uri": "https://localhost:8080/"
        },
        "id": "M-ZR695eDq5U",
        "outputId": "04733ebd-ddef-4a5f-efaa-910aca264e3b"
      },
      "execution_count": 38,
      "outputs": [
        {
          "output_type": "execute_result",
          "data": {
            "text/plain": [
              "(10840, 1000)"
            ]
          },
          "metadata": {},
          "execution_count": 38
        }
      ]
    },
    {
      "cell_type": "code",
      "source": [
        "y_train"
      ],
      "metadata": {
        "colab": {
          "base_uri": "https://localhost:8080/"
        },
        "id": "kUQmx8Eozh4x",
        "outputId": "e72200fa-2578-44f0-bb4b-d1a261a56930"
      },
      "execution_count": 39,
      "outputs": [
        {
          "output_type": "execute_result",
          "data": {
            "text/plain": [
              "array([[0.07475037, 0.1086487 , 0.14645837, ..., 0.24815336, 0.27031765,\n",
              "        0.28596303],\n",
              "       [0.34527409, 0.34201782, 0.3371334 , ..., 0.08705159, 0.08444657,\n",
              "        0.0811903 ],\n",
              "       [0.1824589 , 0.17985388, 0.17750937, ..., 0.16630783, 0.16422382,\n",
              "        0.16213981],\n",
              "       ...,\n",
              "       [0.18687561, 0.18296427, 0.17905292, ..., 0.21816637, 0.21295125,\n",
              "        0.20773612],\n",
              "       [0.12168652, 0.11907896, 0.11647139, ..., 0.04085205, 0.04867474,\n",
              "        0.06171256],\n",
              "       [0.25670345, 0.2394452 , 0.22186132, ..., 0.1573871 , 0.16162026,\n",
              "        0.16520216]])"
            ]
          },
          "metadata": {},
          "execution_count": 39
        }
      ]
    },
    {
      "cell_type": "markdown",
      "source": [
        "## Linear Model With Normalized PPG and ABP values"
      ],
      "metadata": {
        "id": "P4vQZrAJJClG"
      }
    },
    {
      "cell_type": "code",
      "execution_count": 40,
      "metadata": {
        "colab": {
          "base_uri": "https://localhost:8080/"
        },
        "id": "Tl_3aK3Atw02",
        "outputId": "4f726c53-b580-442a-88ad-5bb012ad22a2"
      },
      "outputs": [
        {
          "output_type": "execute_result",
          "data": {
            "text/plain": [
              "LinearRegression()"
            ]
          },
          "metadata": {},
          "execution_count": 40
        }
      ],
      "source": [
        "#Linear Regression with Normalized Values of PPG\n",
        "import numpy as np\n",
        "from sklearn.linear_model import LinearRegression\n",
        "linear_model = LinearRegression()\n",
        "linear_model.fit(X_train, y_train)"
      ]
    },
    {
      "cell_type": "code",
      "execution_count": 41,
      "metadata": {
        "id": "wFSZy-wQue94"
      },
      "outputs": [],
      "source": [
        "## Prediction of BP values from PPG values using LR model\n",
        "y_pred = linear_model.predict(X_test)"
      ]
    },
    {
      "cell_type": "code",
      "execution_count": 42,
      "metadata": {
        "colab": {
          "base_uri": "https://localhost:8080/"
        },
        "id": "3N9HXLZluxPr",
        "outputId": "1e03777a-a9dd-4a1d-e40f-4a6e0072c2e5"
      },
      "outputs": [
        {
          "output_type": "stream",
          "name": "stdout",
          "text": [
            "LR model RMSE is: 0.11871120237401452\n"
          ]
        }
      ],
      "source": [
        "#Calculating RMSE\n",
        "rmse= np.sqrt(np.mean((y_pred-y_test)**2))\n",
        "print(f'LR model RMSE is: {rmse}')"
      ]
    },
    {
      "cell_type": "code",
      "source": [
        "#Checking MAE error for Linear Regression Model\n",
        "LR_MAE= tf.keras.metrics.MeanAbsoluteError()\n",
        "LR_MAE.update_state(y_test, y_pred)\n",
        "print(f'LR Model MAE: {LR_MAE.result().numpy()}')"
      ],
      "metadata": {
        "colab": {
          "base_uri": "https://localhost:8080/"
        },
        "id": "PBpGRjLzFKqu",
        "outputId": "af9a3a91-7ffa-44ba-fa27-11bbbf4d6cd5"
      },
      "execution_count": 43,
      "outputs": [
        {
          "output_type": "stream",
          "name": "stdout",
          "text": [
            "LR Model MAE: 0.08203183114528656\n"
          ]
        }
      ]
    },
    {
      "cell_type": "code",
      "source": [
        "# Checking if y_test and y_pred have any NaN values\n",
        "print(len(y_test))\n",
        "print(len(y_pred))\n",
        "print(np.isnan(y_test).any())\n",
        "print(np.isnan(y_pred).any())\n",
        "print(np.argwhere(np.isnan(y_test)))"
      ],
      "metadata": {
        "colab": {
          "base_uri": "https://localhost:8080/"
        },
        "id": "c2XcQ7DvFbzL",
        "outputId": "8b12ed43-340d-40f1-ba86-0b08fdf06611"
      },
      "execution_count": 44,
      "outputs": [
        {
          "output_type": "stream",
          "name": "stdout",
          "text": [
            "4646\n",
            "4646\n",
            "False\n",
            "False\n",
            "[]\n"
          ]
        }
      ]
    },
    {
      "cell_type": "code",
      "source": [
        "#Scaling back y_test and y_pred to original values to calculate Mean Arterial Pressure (MAP) Error\n",
        "y_test_sb = y_test*(x_max - x_min) +x_min \n",
        "y_pred_sb = y_pred*(x_max - x_min) +x_min "
      ],
      "metadata": {
        "id": "dRtIxJLb6_Gy"
      },
      "execution_count": 45,
      "outputs": []
    },
    {
      "cell_type": "code",
      "source": [
        "y_test_sb"
      ],
      "metadata": {
        "colab": {
          "base_uri": "https://localhost:8080/"
        },
        "id": "uFZNmxntFsox",
        "outputId": "bfdc40dc-6b47-4105-aaa8-b494efb2d706"
      },
      "execution_count": 46,
      "outputs": [
        {
          "output_type": "execute_result",
          "data": {
            "text/plain": [
              "array([[ 68.05741073,  67.07957437,  66.29730528, ...,  60.03915257,\n",
              "         59.64801802,  59.06131621],\n",
              "       [ 62.58152711,  62.19039256,  61.79925802, ...,  66.68843982,\n",
              "         66.29730528,  65.90617073],\n",
              "       [ 55.29152604,  55.19383783,  55.04730551, ...,  90.3615929 ,\n",
              "         87.23557023,  84.06070345],\n",
              "       ...,\n",
              "       [105.01962518, 102.08611609,  99.9348761 , ..., 118.70933423,\n",
              "        115.77582515, 112.25561425],\n",
              "       [ 73.33772708,  73.14215981,  72.75102526, ...,  63.3637962 ,\n",
              "         63.16822892,  62.77709438],\n",
              "       [103.25951973, 109.71323971, 115.77582515, ...,  93.48115612,\n",
              "         93.09002157,  92.69888703]])"
            ]
          },
          "metadata": {},
          "execution_count": 46
        }
      ]
    },
    {
      "cell_type": "code",
      "source": [
        "y_pred_sb"
      ],
      "metadata": {
        "colab": {
          "base_uri": "https://localhost:8080/"
        },
        "id": "H7fT51STF5Ho",
        "outputId": "03784fdb-5eea-4793-abac-767c83830e7d"
      },
      "execution_count": 48,
      "outputs": [
        {
          "output_type": "execute_result",
          "data": {
            "text/plain": [
              "array([[ 75.95795142,  75.41679695,  75.30165952, ...,  73.31914936,\n",
              "         72.17533175,  71.03106624],\n",
              "       [ 77.42894409,  77.28363972,  77.18506733, ...,  69.1952736 ,\n",
              "         67.79307942,  66.80446508],\n",
              "       [ 93.16139065,  99.59004867, 105.36893317, ...,  87.00841389,\n",
              "         85.91109803,  85.35765291],\n",
              "       ...,\n",
              "       [ 87.16021405,  83.65923064,  80.75175116, ..., 107.45838744,\n",
              "        107.72086642, 107.96525596],\n",
              "       [ 83.51778267,  83.64044091,  83.81539046, ...,  65.2783575 ,\n",
              "         65.8229549 ,  66.31661331],\n",
              "       [ 88.61933062,  96.47377093, 103.84505344, ...,  75.22690523,\n",
              "         74.64157654,  74.28715387]])"
            ]
          },
          "metadata": {},
          "execution_count": 48
        }
      ]
    },
    {
      "cell_type": "code",
      "source": [
        "#Checking MAP for LR model\n",
        "score = []\n",
        "for i in range(len(y_test_sb)):\n",
        "  score.append(abs(y_test_sb[i]-y_pred_sb[i]))\n",
        "\n",
        "print(\"Average MAP error for LR model is: %f mmHG\" %(np.mean(score)))\n",
        "print(\"Standard Deviation of LR Model is: %f mmHG\" %(np.std(score)))"
      ],
      "metadata": {
        "colab": {
          "base_uri": "https://localhost:8080/"
        },
        "id": "8gd8VClGFm68",
        "outputId": "f6504266-1cff-410a-f0ae-f846d35e0171"
      },
      "execution_count": 49,
      "outputs": [
        {
          "output_type": "stream",
          "name": "stdout",
          "text": [
            "Average MAP error for LR model is: 12.304774 mmHG\n",
            "Standard Deviation of LR Model is: 12.871301 mmHG\n"
          ]
        }
      ]
    },
    {
      "cell_type": "markdown",
      "source": [
        "### Plotting graph for True vs Predicted BP values using LR model\n",
        "(with Normalized PPG and BP values)"
      ],
      "metadata": {
        "id": "G2IrcqrUofpv"
      }
    },
    {
      "cell_type": "code",
      "source": [
        "# Visualize predicted BP and the True BP in standard LR model\n",
        "plt.title(\"===True BP values Vs Predicted BP values in LR Model(Normalized)===\")\n",
        "plt.xlabel('Number of samples taken')\n",
        "plt.ylabel('BP values')\n",
        "plt.plot(y_test[1000,:]) #only plotting 100 samples\n",
        "plt.plot(y_pred[1000,:])\n",
        "plt.legend(['True_BP', 'Predicted_BP'])"
      ],
      "metadata": {
        "colab": {
          "base_uri": "https://localhost:8080/",
          "height": 312
        },
        "id": "G5CWYev4pVSj",
        "outputId": "3da9b4b7-c695-412a-fdae-929e90525d95"
      },
      "execution_count": 50,
      "outputs": [
        {
          "output_type": "execute_result",
          "data": {
            "text/plain": [
              "<matplotlib.legend.Legend at 0x7f3310bf3fd0>"
            ]
          },
          "metadata": {},
          "execution_count": 50
        },
        {
          "output_type": "display_data",
          "data": {
            "text/plain": [
              "<Figure size 432x288 with 1 Axes>"
            ],
            "image/png": "[encoded data removed]"
          },
          "metadata": {
            "needs_background": "light"
          }
        }
      ]
    },
    {
      "cell_type": "markdown",
      "metadata": {
        "id": "ORn0MrFL8Nl_"
      },
      "source": [
        "## Artificial Neural Network Model With Normalized PPG and ABP values"
      ]
    },
    {
      "cell_type": "code",
      "execution_count": 51,
      "metadata": {
        "id": "Aq636N-3MVHa",
        "colab": {
          "base_uri": "https://localhost:8080/"
        },
        "outputId": "aedc7243-ed2d-4e7c-cddf-a7fb254f18dc"
      },
      "outputs": [
        {
          "output_type": "stream",
          "name": "stdout",
          "text": [
            "Model: \"sequential\"\n",
            "_________________________________________________________________\n",
            " Layer (type)                Output Shape              Param #   \n",
            "=================================================================\n",
            " dense (Dense)               (None, 2048)              2050048   \n",
            "                                                                 \n",
            " dropout (Dropout)           (None, 2048)              0         \n",
            "                                                                 \n",
            " dense_1 (Dense)             (None, 1024)              2098176   \n",
            "                                                                 \n",
            " dropout_1 (Dropout)         (None, 1024)              0         \n",
            "                                                                 \n",
            " dense_2 (Dense)             (None, 512)               524800    \n",
            "                                                                 \n",
            " dropout_2 (Dropout)         (None, 512)               0         \n",
            "                                                                 \n",
            " dense_3 (Dense)             (None, 1000)              513000    \n",
            "                                                                 \n",
            "=================================================================\n",
            "Total params: 5,186,024\n",
            "Trainable params: 5,186,024\n",
            "Non-trainable params: 0\n",
            "_________________________________________________________________\n"
          ]
        }
      ],
      "source": [
        "# Baseline Sequential Model\n",
        "from keras import backend as K\n",
        "K.clear_session() \n",
        "\n",
        "def Model(input_dim, num_class):\n",
        "    model = Sequential()\n",
        "\n",
        "    model.add(layers.Dense(2048, input_dim = input_dim, activation='sigmoid'))\n",
        "    # model.add(layers.LSTM(512, input_dim = input_dim, activation='relu'))\n",
        "    model.add(layers.Dropout(0.5))\n",
        "    model.add(layers.Dense(1024, 'relu'))\n",
        "    model.add(layers.Dropout(0.25))\n",
        "    model.add(layers.Dense(512, 'relu')) \n",
        "    model.add(layers.Dropout(0.25))\n",
        "    # model.add(layers.Dense(64, 'relu'))    \n",
        "    # model.add(layers.Dropout(0.25))\n",
        "    model.add(layers.Dense(num_class, 'linear'))\n",
        "    \n",
        "    \n",
        "    return model\n",
        "\n",
        "Input_dim = X_train.shape[1]\n",
        "Classes = 1000\n",
        "\n",
        "# Creating the model on TPU\n",
        "with tpu_strategy.scope():\n",
        "  model = Model(input_dim=Input_dim, num_class=Classes)\n",
        "  model.compile(loss=tf.keras.losses.MeanAbsoluteError(),\n",
        "                  optimizer='adam',\n",
        "                  metrics=[tf.keras.metrics.RootMeanSquaredError()]\n",
        "                 )\n",
        "  model.summary()"
      ]
    },
    {
      "cell_type": "markdown",
      "source": [
        "### Training the ANN Model"
      ],
      "metadata": {
        "id": "MtODtWZnpi_2"
      }
    },
    {
      "cell_type": "code",
      "source": [
        "# Training the ANN model\n",
        "ANN_model_train = model.fit(X_train[:config['train_size']], # using the first 3 million rows.\n",
        "                    y_train[:config['train_size']],\n",
        "                    validation_split=0.1,\n",
        "                    epochs=config['train_params']['epochs'],\n",
        "                    batch_size=Batch_size,\n",
        "                    verbose = 1\n",
        "                   )"
      ],
      "metadata": {
        "colab": {
          "base_uri": "https://localhost:8080/"
        },
        "id": "sblGqo15C7Z-",
        "outputId": "84687e43-cfdb-4c75-c8fe-d12849f4abdd"
      },
      "execution_count": 52,
      "outputs": [
        {
          "output_type": "stream",
          "name": "stdout",
          "text": [
            "Epoch 1/50\n",
            "39/39 [==============================] - 11s 149ms/step - loss: 0.1551 - root_mean_squared_error: 0.2204 - val_loss: 0.1230 - val_root_mean_squared_error: 0.1782\n",
            "Epoch 2/50\n",
            "39/39 [==============================] - 1s 36ms/step - loss: 0.1222 - root_mean_squared_error: 0.1692 - val_loss: 0.1200 - val_root_mean_squared_error: 0.1719\n",
            "Epoch 3/50\n",
            "39/39 [==============================] - 1s 38ms/step - loss: 0.1203 - root_mean_squared_error: 0.1671 - val_loss: 0.1186 - val_root_mean_squared_error: 0.1694\n",
            "Epoch 4/50\n",
            "39/39 [==============================] - 1s 38ms/step - loss: 0.1176 - root_mean_squared_error: 0.1636 - val_loss: 0.1144 - val_root_mean_squared_error: 0.1637\n",
            "Epoch 5/50\n",
            "39/39 [==============================] - 1s 38ms/step - loss: 0.1139 - root_mean_squared_error: 0.1583 - val_loss: 0.1087 - val_root_mean_squared_error: 0.1506\n",
            "Epoch 6/50\n",
            "39/39 [==============================] - 1s 35ms/step - loss: 0.1109 - root_mean_squared_error: 0.1538 - val_loss: 0.1061 - val_root_mean_squared_error: 0.1511\n",
            "Epoch 7/50\n",
            "39/39 [==============================] - 1s 37ms/step - loss: 0.1085 - root_mean_squared_error: 0.1512 - val_loss: 0.1024 - val_root_mean_squared_error: 0.1447\n",
            "Epoch 8/50\n",
            "39/39 [==============================] - 1s 37ms/step - loss: 0.1059 - root_mean_squared_error: 0.1476 - val_loss: 0.0997 - val_root_mean_squared_error: 0.1407\n",
            "Epoch 9/50\n",
            "39/39 [==============================] - 1s 35ms/step - loss: 0.1039 - root_mean_squared_error: 0.1449 - val_loss: 0.0977 - val_root_mean_squared_error: 0.1405\n",
            "Epoch 10/50\n",
            "39/39 [==============================] - 1s 37ms/step - loss: 0.1020 - root_mean_squared_error: 0.1428 - val_loss: 0.0967 - val_root_mean_squared_error: 0.1377\n",
            "Epoch 11/50\n",
            "39/39 [==============================] - 1s 38ms/step - loss: 0.1000 - root_mean_squared_error: 0.1401 - val_loss: 0.0936 - val_root_mean_squared_error: 0.1341\n",
            "Epoch 12/50\n",
            "39/39 [==============================] - 1s 36ms/step - loss: 0.0983 - root_mean_squared_error: 0.1379 - val_loss: 0.0921 - val_root_mean_squared_error: 0.1328\n",
            "Epoch 13/50\n",
            "39/39 [==============================] - 1s 37ms/step - loss: 0.0972 - root_mean_squared_error: 0.1364 - val_loss: 0.0905 - val_root_mean_squared_error: 0.1304\n",
            "Epoch 14/50\n",
            "39/39 [==============================] - 1s 36ms/step - loss: 0.0957 - root_mean_squared_error: 0.1347 - val_loss: 0.0891 - val_root_mean_squared_error: 0.1274\n",
            "Epoch 15/50\n",
            "39/39 [==============================] - 1s 36ms/step - loss: 0.0948 - root_mean_squared_error: 0.1336 - val_loss: 0.0879 - val_root_mean_squared_error: 0.1254\n",
            "Epoch 16/50\n",
            "39/39 [==============================] - 1s 35ms/step - loss: 0.0939 - root_mean_squared_error: 0.1323 - val_loss: 0.0870 - val_root_mean_squared_error: 0.1244\n",
            "Epoch 17/50\n",
            "39/39 [==============================] - 1s 36ms/step - loss: 0.0927 - root_mean_squared_error: 0.1307 - val_loss: 0.0870 - val_root_mean_squared_error: 0.1245\n",
            "Epoch 18/50\n",
            "39/39 [==============================] - 2s 39ms/step - loss: 0.0920 - root_mean_squared_error: 0.1301 - val_loss: 0.0857 - val_root_mean_squared_error: 0.1229\n",
            "Epoch 19/50\n",
            "39/39 [==============================] - 1s 37ms/step - loss: 0.0910 - root_mean_squared_error: 0.1288 - val_loss: 0.0843 - val_root_mean_squared_error: 0.1188\n",
            "Epoch 20/50\n",
            "39/39 [==============================] - 1s 38ms/step - loss: 0.0908 - root_mean_squared_error: 0.1282 - val_loss: 0.0849 - val_root_mean_squared_error: 0.1218\n",
            "Epoch 21/50\n",
            "39/39 [==============================] - 1s 38ms/step - loss: 0.0899 - root_mean_squared_error: 0.1274 - val_loss: 0.0837 - val_root_mean_squared_error: 0.1190\n",
            "Epoch 22/50\n",
            "39/39 [==============================] - 1s 38ms/step - loss: 0.0893 - root_mean_squared_error: 0.1265 - val_loss: 0.0831 - val_root_mean_squared_error: 0.1196\n",
            "Epoch 23/50\n",
            "39/39 [==============================] - 1s 37ms/step - loss: 0.0883 - root_mean_squared_error: 0.1252 - val_loss: 0.0825 - val_root_mean_squared_error: 0.1182\n",
            "Epoch 24/50\n",
            "39/39 [==============================] - 1s 36ms/step - loss: 0.0878 - root_mean_squared_error: 0.1247 - val_loss: 0.0821 - val_root_mean_squared_error: 0.1187\n",
            "Epoch 25/50\n",
            "39/39 [==============================] - 1s 38ms/step - loss: 0.0874 - root_mean_squared_error: 0.1243 - val_loss: 0.0818 - val_root_mean_squared_error: 0.1174\n",
            "Epoch 26/50\n",
            "39/39 [==============================] - 1s 38ms/step - loss: 0.0868 - root_mean_squared_error: 0.1234 - val_loss: 0.0822 - val_root_mean_squared_error: 0.1189\n",
            "Epoch 27/50\n",
            "39/39 [==============================] - 1s 38ms/step - loss: 0.0863 - root_mean_squared_error: 0.1229 - val_loss: 0.0804 - val_root_mean_squared_error: 0.1147\n",
            "Epoch 28/50\n",
            "39/39 [==============================] - 1s 36ms/step - loss: 0.0863 - root_mean_squared_error: 0.1227 - val_loss: 0.0806 - val_root_mean_squared_error: 0.1160\n",
            "Epoch 29/50\n",
            "39/39 [==============================] - 2s 42ms/step - loss: 0.0856 - root_mean_squared_error: 0.1221 - val_loss: 0.0807 - val_root_mean_squared_error: 0.1170\n",
            "Epoch 30/50\n",
            "39/39 [==============================] - 2s 39ms/step - loss: 0.0852 - root_mean_squared_error: 0.1217 - val_loss: 0.0796 - val_root_mean_squared_error: 0.1138\n",
            "Epoch 31/50\n",
            "39/39 [==============================] - 2s 43ms/step - loss: 0.0848 - root_mean_squared_error: 0.1208 - val_loss: 0.0800 - val_root_mean_squared_error: 0.1150\n",
            "Epoch 32/50\n",
            "39/39 [==============================] - 1s 38ms/step - loss: 0.0846 - root_mean_squared_error: 0.1209 - val_loss: 0.0794 - val_root_mean_squared_error: 0.1145\n",
            "Epoch 33/50\n",
            "39/39 [==============================] - 1s 38ms/step - loss: 0.0843 - root_mean_squared_error: 0.1204 - val_loss: 0.0800 - val_root_mean_squared_error: 0.1158\n",
            "Epoch 34/50\n",
            "39/39 [==============================] - 1s 37ms/step - loss: 0.0836 - root_mean_squared_error: 0.1195 - val_loss: 0.0789 - val_root_mean_squared_error: 0.1132\n",
            "Epoch 35/50\n",
            "39/39 [==============================] - 1s 36ms/step - loss: 0.0835 - root_mean_squared_error: 0.1193 - val_loss: 0.0794 - val_root_mean_squared_error: 0.1150\n",
            "Epoch 36/50\n",
            "39/39 [==============================] - 2s 50ms/step - loss: 0.0834 - root_mean_squared_error: 0.1193 - val_loss: 0.0786 - val_root_mean_squared_error: 0.1129\n",
            "Epoch 37/50\n",
            "39/39 [==============================] - 1s 39ms/step - loss: 0.0833 - root_mean_squared_error: 0.1192 - val_loss: 0.0782 - val_root_mean_squared_error: 0.1123\n",
            "Epoch 38/50\n",
            "39/39 [==============================] - 1s 38ms/step - loss: 0.0828 - root_mean_squared_error: 0.1187 - val_loss: 0.0780 - val_root_mean_squared_error: 0.1118\n",
            "Epoch 39/50\n",
            "39/39 [==============================] - 1s 39ms/step - loss: 0.0824 - root_mean_squared_error: 0.1182 - val_loss: 0.0776 - val_root_mean_squared_error: 0.1113\n",
            "Epoch 40/50\n",
            "39/39 [==============================] - 1s 36ms/step - loss: 0.0823 - root_mean_squared_error: 0.1179 - val_loss: 0.0775 - val_root_mean_squared_error: 0.1116\n",
            "Epoch 41/50\n",
            "39/39 [==============================] - 1s 37ms/step - loss: 0.0821 - root_mean_squared_error: 0.1178 - val_loss: 0.0775 - val_root_mean_squared_error: 0.1113\n",
            "Epoch 42/50\n",
            "39/39 [==============================] - 2s 39ms/step - loss: 0.0819 - root_mean_squared_error: 0.1175 - val_loss: 0.0779 - val_root_mean_squared_error: 0.1120\n",
            "Epoch 43/50\n",
            "39/39 [==============================] - 1s 38ms/step - loss: 0.0819 - root_mean_squared_error: 0.1177 - val_loss: 0.0772 - val_root_mean_squared_error: 0.1107\n",
            "Epoch 44/50\n",
            "39/39 [==============================] - 1s 38ms/step - loss: 0.0813 - root_mean_squared_error: 0.1168 - val_loss: 0.0772 - val_root_mean_squared_error: 0.1107\n",
            "Epoch 45/50\n",
            "39/39 [==============================] - 2s 39ms/step - loss: 0.0814 - root_mean_squared_error: 0.1170 - val_loss: 0.0770 - val_root_mean_squared_error: 0.1108\n",
            "Epoch 46/50\n",
            "39/39 [==============================] - 2s 40ms/step - loss: 0.0807 - root_mean_squared_error: 0.1161 - val_loss: 0.0770 - val_root_mean_squared_error: 0.1109\n",
            "Epoch 47/50\n",
            "39/39 [==============================] - 1s 38ms/step - loss: 0.0808 - root_mean_squared_error: 0.1161 - val_loss: 0.0767 - val_root_mean_squared_error: 0.1104\n",
            "Epoch 48/50\n",
            "39/39 [==============================] - 1s 38ms/step - loss: 0.0806 - root_mean_squared_error: 0.1160 - val_loss: 0.0762 - val_root_mean_squared_error: 0.1092\n",
            "Epoch 49/50\n",
            "39/39 [==============================] - 1s 35ms/step - loss: 0.0802 - root_mean_squared_error: 0.1154 - val_loss: 0.0770 - val_root_mean_squared_error: 0.1118\n",
            "Epoch 50/50\n",
            "39/39 [==============================] - 2s 44ms/step - loss: 0.0804 - root_mean_squared_error: 0.1155 - val_loss: 0.0765 - val_root_mean_squared_error: 0.1108\n"
          ]
        }
      ]
    },
    {
      "cell_type": "markdown",
      "source": [
        "### Prediction of BP values from normalized PPG values from test set - ANN"
      ],
      "metadata": {
        "id": "iGpncyNgppP8"
      }
    },
    {
      "cell_type": "code",
      "source": [
        "#Predicting on the test set using the ANN( artificial neural network) model\n",
        "ANN_predictions = model.predict(X_test[:config['train_size']])\n",
        "rmse = tf.keras.metrics.RootMeanSquaredError()\n",
        "rmse.update_state(y_test[:config['train_size']], ANN_predictions)\n",
        "print(f' ANN Model RMSE: {rmse.result().numpy()}')"
      ],
      "metadata": {
        "colab": {
          "base_uri": "https://localhost:8080/"
        },
        "id": "vzt7LY-YDLUS",
        "outputId": "93c582cd-9b97-440a-fc2a-872f1107b81a"
      },
      "execution_count": 53,
      "outputs": [
        {
          "output_type": "stream",
          "name": "stdout",
          "text": [
            " ANN Model RMSE: 0.11087793856859207\n"
          ]
        }
      ]
    },
    {
      "cell_type": "code",
      "source": [
        "len(ANN_predictions)"
      ],
      "metadata": {
        "colab": {
          "base_uri": "https://localhost:8080/"
        },
        "id": "WGDcWWTVDZ3k",
        "outputId": "3728712f-3c57-4517-c95d-288e3fc91e7c"
      },
      "execution_count": 54,
      "outputs": [
        {
          "output_type": "execute_result",
          "data": {
            "text/plain": [
              "4646"
            ]
          },
          "metadata": {},
          "execution_count": 54
        }
      ]
    },
    {
      "cell_type": "code",
      "source": [
        "type(ANN_predictions)"
      ],
      "metadata": {
        "colab": {
          "base_uri": "https://localhost:8080/"
        },
        "id": "wxfZKbwpDck1",
        "outputId": "9df91669-bb72-45f1-b105-c8abd1283bb3"
      },
      "execution_count": 55,
      "outputs": [
        {
          "output_type": "execute_result",
          "data": {
            "text/plain": [
              "numpy.ndarray"
            ]
          },
          "metadata": {},
          "execution_count": 55
        }
      ]
    },
    {
      "cell_type": "code",
      "source": [
        "ANN_predictions"
      ],
      "metadata": {
        "colab": {
          "base_uri": "https://localhost:8080/"
        },
        "id": "1cpCRnecDfPq",
        "outputId": "c393f032-1ef8-4f9a-edc7-ef70df751606"
      },
      "execution_count": 56,
      "outputs": [
        {
          "output_type": "execute_result",
          "data": {
            "text/plain": [
              "array([[0.11442088, 0.11298689, 0.10863139, ..., 0.08258565, 0.08313722,\n",
              "        0.08687229],\n",
              "       [0.13760567, 0.13878073, 0.1321401 , ..., 0.14911042, 0.14594254,\n",
              "        0.14668854],\n",
              "       [0.29438993, 0.28999108, 0.28454095, ..., 0.24080381, 0.2314103 ,\n",
              "        0.22697893],\n",
              "       ...,\n",
              "       [0.3363037 , 0.32488796, 0.31245804, ..., 0.48944065, 0.48281333,\n",
              "        0.4861784 ],\n",
              "       [0.1585832 , 0.15174213, 0.14670293, ..., 0.10784083, 0.10632904,\n",
              "        0.11072402],\n",
              "       [0.37592438, 0.39031962, 0.39988816, ..., 0.1438201 , 0.15206254,\n",
              "        0.16161776]], dtype=float32)"
            ]
          },
          "metadata": {},
          "execution_count": 56
        }
      ]
    },
    {
      "cell_type": "code",
      "source": [
        "#Checking MAE error for ANN Model\n",
        "ANN_MAE= tf.keras.metrics.MeanAbsoluteError()\n",
        "ANN_MAE.update_state(y_test, ANN_predictions)\n",
        "print(f'ANN Model MAE: {ANN_MAE.result().numpy()}')"
      ],
      "metadata": {
        "colab": {
          "base_uri": "https://localhost:8080/"
        },
        "id": "HaNYsno7D1so",
        "outputId": "b6569d30-1a43-4269-f1b2-f8c4245076f2"
      },
      "execution_count": 57,
      "outputs": [
        {
          "output_type": "stream",
          "name": "stdout",
          "text": [
            "ANN Model MAE: 0.07631167024374008\n"
          ]
        }
      ]
    },
    {
      "cell_type": "code",
      "source": [
        "# Checking if y_test and ANN_predictions have any NaN values\n",
        "print(len(y_test))\n",
        "print(len(ANN_predictions))\n",
        "print(np.isnan(y_test).any())\n",
        "print(np.isnan(ANN_predictions).any())\n",
        "print(np.argwhere(np.isnan(y_test)))"
      ],
      "metadata": {
        "colab": {
          "base_uri": "https://localhost:8080/"
        },
        "id": "7k5WSdbFEPWP",
        "outputId": "db2427f7-379d-49a3-f796-0b03e9618a46"
      },
      "execution_count": 58,
      "outputs": [
        {
          "output_type": "stream",
          "name": "stdout",
          "text": [
            "4646\n",
            "4646\n",
            "False\n",
            "False\n",
            "[]\n"
          ]
        }
      ]
    },
    {
      "cell_type": "code",
      "source": [
        "#Scaling back y_test and ANN_Prediction to original values to calculate Mean Arterial Pressure (MAP) Error for ANN model\n",
        "y_tann_sb = y_test*(x_max - x_min) +x_min\n",
        "ANN_pred_sb = ANN_predictions*(x_max - x_min) +x_min \n"
      ],
      "metadata": {
        "id": "6kZ37YDfG9yq"
      },
      "execution_count": 59,
      "outputs": []
    },
    {
      "cell_type": "code",
      "source": [
        "y_tann_sb"
      ],
      "metadata": {
        "colab": {
          "base_uri": "https://localhost:8080/"
        },
        "id": "pRFBajMRHXKx",
        "outputId": "070eb19b-cd8f-4a67-b147-fdec2de8faf1"
      },
      "execution_count": 60,
      "outputs": [
        {
          "output_type": "execute_result",
          "data": {
            "text/plain": [
              "array([[ 68.05741073,  67.07957437,  66.29730528, ...,  60.03915257,\n",
              "         59.64801802,  59.06131621],\n",
              "       [ 62.58152711,  62.19039256,  61.79925802, ...,  66.68843982,\n",
              "         66.29730528,  65.90617073],\n",
              "       [ 55.29152604,  55.19383783,  55.04730551, ...,  90.3615929 ,\n",
              "         87.23557023,  84.06070345],\n",
              "       ...,\n",
              "       [105.01962518, 102.08611609,  99.9348761 , ..., 118.70933423,\n",
              "        115.77582515, 112.25561425],\n",
              "       [ 73.33772708,  73.14215981,  72.75102526, ...,  63.3637962 ,\n",
              "         63.16822892,  62.77709438],\n",
              "       [103.25951973, 109.71323971, 115.77582515, ...,  93.48115612,\n",
              "         93.09002157,  92.69888703]])"
            ]
          },
          "metadata": {},
          "execution_count": 60
        }
      ]
    },
    {
      "cell_type": "code",
      "source": [
        "ANN_pred_sb"
      ],
      "metadata": {
        "colab": {
          "base_uri": "https://localhost:8080/"
        },
        "id": "yL-dVwzjHaYo",
        "outputId": "abb1f60f-eb96-49d9-981a-08e17a916d41"
      },
      "execution_count": 61,
      "outputs": [
        {
          "output_type": "execute_result",
          "data": {
            "text/plain": [
              "array([[ 67.16313 ,  66.94804 ,  66.29471 , ...,  62.387848,  62.47058 ,\n",
              "         63.030846],\n",
              "       [ 70.640854,  70.81711 ,  69.821014, ...,  72.36656 ,  71.89138 ,\n",
              "         72.00328 ],\n",
              "       [ 94.15849 ,  93.49866 ,  92.68114 , ...,  86.120575,  84.71155 ,\n",
              "         84.046844],\n",
              "       ...,\n",
              "       [100.44556 ,  98.73319 ,  96.868706, ..., 123.4161  , 122.422   ,\n",
              "        122.92676 ],\n",
              "       [ 73.787476,  72.76132 ,  72.00544 , ...,  66.176125,  65.949356,\n",
              "         66.608604],\n",
              "       [106.38866 , 108.54794 , 109.98322 , ...,  71.57301 ,  72.80938 ,\n",
              "         74.24266 ]], dtype=float32)"
            ]
          },
          "metadata": {},
          "execution_count": 61
        }
      ]
    },
    {
      "cell_type": "code",
      "source": [
        "#Checking MAP error for ANN model\n",
        "score = []\n",
        "for i in range(len(y_tann_sb)):\n",
        "  score.append(abs(y_tann_sb[i]-ANN_pred_sb[i]))\n",
        "\n",
        "print(\"Average MAP error for ANN model is: %f mmHG\" %(np.mean(score)))\n",
        "print(\"Standard Deviation of ANN Model is: %f mmHG\" %(np.std(score)))"
      ],
      "metadata": {
        "colab": {
          "base_uri": "https://localhost:8080/"
        },
        "id": "sTTm0WxFEiPA",
        "outputId": "16720dbf-60b1-4845-c4da-463a8c40aaa8"
      },
      "execution_count": 62,
      "outputs": [
        {
          "output_type": "stream",
          "name": "stdout",
          "text": [
            "Average MAP error for ANN model is: 11.446750 mmHG\n",
            "Standard Deviation of ANN Model is: 12.065863 mmHG\n"
          ]
        }
      ]
    },
    {
      "cell_type": "markdown",
      "source": [
        "### Plotting graph for Train Loss vs RMSE using ANN model\n",
        "(with Normalized PPG and BP values)"
      ],
      "metadata": {
        "id": "GD2VnAgYsxYP"
      }
    },
    {
      "cell_type": "code",
      "source": [
        "#Visualizing ANN model Train Loss vs RMSE\n",
        "plt.title('Train loss against Root_Mean_Squared_error in ANN model')\n",
        "plt.ylabel('Loss')\n",
        "plt.xlabel('Epoch')\n",
        "plt.plot(ANN_model_train.history['loss'])\n",
        "plt.plot(ANN_model_train.history['root_mean_squared_error'])\n",
        "plt.legend(['Loss', 'Root_Mean_Squared_error'])"
      ],
      "metadata": {
        "colab": {
          "base_uri": "https://localhost:8080/",
          "height": 312
        },
        "id": "nVQD7h8XEw84",
        "outputId": "504c84c0-2cb2-4b5e-a87b-def0174ac3f3"
      },
      "execution_count": 63,
      "outputs": [
        {
          "output_type": "execute_result",
          "data": {
            "text/plain": [
              "<matplotlib.legend.Legend at 0x7f330f3a4b50>"
            ]
          },
          "metadata": {},
          "execution_count": 63
        },
        {
          "output_type": "display_data",
          "data": {
            "text/plain": [
              "<Figure size 432x288 with 1 Axes>"
            ],
            "image/png": "[encoded data removed]"
          },
          "metadata": {
            "needs_background": "light"
          }
        }
      ]
    },
    {
      "cell_type": "markdown",
      "source": [
        "### Plotting graph for True vs Predicted BP values using ANN\n",
        "(with Normalized PPG and BP values)"
      ],
      "metadata": {
        "id": "k1fX3sYBus4X"
      }
    },
    {
      "cell_type": "code",
      "source": [
        "# Visualize predicted BP and the True BP in ANN model\n",
        "plt.title(\"===True BP values Vs Predicted BP values in ANN Model===\")\n",
        "plt.xlabel('Number of samples taken')\n",
        "plt.ylabel('BP values')\n",
        "plt.plot(y_test[1000,:]) #only plotting 100 samples\n",
        "plt.plot(ANN_predictions[1000,:])\n",
        "plt.legend(['True_BP', 'Predicted_BP'])"
      ],
      "metadata": {
        "colab": {
          "base_uri": "https://localhost:8080/",
          "height": 312
        },
        "id": "N5b4PG-aFAkj",
        "outputId": "f79f2afd-ab2e-428f-96cf-b35b90128398"
      },
      "execution_count": 64,
      "outputs": [
        {
          "output_type": "execute_result",
          "data": {
            "text/plain": [
              "<matplotlib.legend.Legend at 0x7f330f6d1bd0>"
            ]
          },
          "metadata": {},
          "execution_count": 64
        },
        {
          "output_type": "display_data",
          "data": {
            "text/plain": [
              "<Figure size 432x288 with 1 Axes>"
            ],
            "image/png": "[encoded data removed]"
          },
          "metadata": {
            "needs_background": "light"
          }
        }
      ]
    },
    {
      "cell_type": "markdown",
      "source": [
        "## LSTM Model"
      ],
      "metadata": {
        "id": "CxJXz9GBvBr-"
      }
    },
    {
      "cell_type": "markdown",
      "source": [
        "### Reshaping the X_train and X_test values for LSTM model\n",
        "The input to a LSTM model should be 3D(Sample Size, Time Step and Number of Features). Hence reshaping X_train and X_test to match the required input dimension."
      ],
      "metadata": {
        "id": "A1dnE2BJJoLq"
      }
    },
    {
      "cell_type": "code",
      "source": [
        "X_train_reshape = np.reshape(X_train, (X_train.shape[0], X_train.shape[1], 1))"
      ],
      "metadata": {
        "id": "6AmNBnOe9OJs"
      },
      "execution_count": 65,
      "outputs": []
    },
    {
      "cell_type": "code",
      "source": [
        "X_train_reshape.shape"
      ],
      "metadata": {
        "colab": {
          "base_uri": "https://localhost:8080/"
        },
        "id": "c-_ZZfKB9QrN",
        "outputId": "68d6818c-fb1a-4fa1-fd0f-9ee8060072b3"
      },
      "execution_count": 66,
      "outputs": [
        {
          "output_type": "execute_result",
          "data": {
            "text/plain": [
              "(10840, 1000, 1)"
            ]
          },
          "metadata": {},
          "execution_count": 66
        }
      ]
    },
    {
      "cell_type": "code",
      "source": [
        "X_train_reshape"
      ],
      "metadata": {
        "colab": {
          "base_uri": "https://localhost:8080/"
        },
        "id": "OAu3KW2hBl5F",
        "outputId": "db7ab21a-9473-412f-c91f-9775efe5fbf6"
      },
      "execution_count": 67,
      "outputs": [
        {
          "output_type": "execute_result",
          "data": {
            "text/plain": [
              "array([[[0.13193117],\n",
              "        [0.12619503],\n",
              "        [0.12045889],\n",
              "        ...,\n",
              "        [0.10516252],\n",
              "        [0.09942639],\n",
              "        [0.09560229]],\n",
              "\n",
              "       [[0.19972388],\n",
              "        [0.19466176],\n",
              "        [0.18913944],\n",
              "        ...,\n",
              "        [0.42797975],\n",
              "        [0.38840313],\n",
              "        [0.35112747]],\n",
              "\n",
              "       [[0.75961538],\n",
              "        [0.82600733],\n",
              "        [0.8768315 ],\n",
              "        ...,\n",
              "        [0.41712454],\n",
              "        [0.38049451],\n",
              "        [0.34661172]],\n",
              "\n",
              "       ...,\n",
              "\n",
              "       [[1.        ],\n",
              "        [1.        ],\n",
              "        [0.99437148],\n",
              "        ...,\n",
              "        [0.77485929],\n",
              "        [0.82363977],\n",
              "        [0.86491557]],\n",
              "\n",
              "       [[0.43373494],\n",
              "        [0.5060241 ],\n",
              "        [0.57487091],\n",
              "        ...,\n",
              "        [0.33907057],\n",
              "        [0.33046472],\n",
              "        [0.32358003]],\n",
              "\n",
              "       [[0.09082734],\n",
              "        [0.08678058],\n",
              "        [0.08183453],\n",
              "        ...,\n",
              "        [0.78417266],\n",
              "        [0.80710432],\n",
              "        [0.82239209]]])"
            ]
          },
          "metadata": {},
          "execution_count": 67
        }
      ]
    },
    {
      "cell_type": "code",
      "source": [
        "X_test_reshape =np.reshape(X_test,(X_test.shape[0] ,X_test.shape[1],1))"
      ],
      "metadata": {
        "id": "q2OJHuueJ10z"
      },
      "execution_count": 68,
      "outputs": []
    },
    {
      "cell_type": "code",
      "source": [
        "X_test_reshape.shape"
      ],
      "metadata": {
        "colab": {
          "base_uri": "https://localhost:8080/"
        },
        "id": "Fqx7_HELJ2zz",
        "outputId": "884491ee-d5a3-48dd-ce53-56300aedf28d"
      },
      "execution_count": 69,
      "outputs": [
        {
          "output_type": "execute_result",
          "data": {
            "text/plain": [
              "(4646, 1000, 1)"
            ]
          },
          "metadata": {},
          "execution_count": 69
        }
      ]
    },
    {
      "cell_type": "code",
      "source": [
        "X_test_reshape"
      ],
      "metadata": {
        "colab": {
          "base_uri": "https://localhost:8080/"
        },
        "id": "nU83JdScJ7in",
        "outputId": "54213999-88a9-476c-b22a-a30d31ae4412"
      },
      "execution_count": 70,
      "outputs": [
        {
          "output_type": "execute_result",
          "data": {
            "text/plain": [
              "array([[[0.89799636],\n",
              "        [0.88342441],\n",
              "        [0.86338798],\n",
              "        ...,\n",
              "        [0.39162113],\n",
              "        [0.38433515],\n",
              "        [0.38069217]],\n",
              "\n",
              "       [[0.97131931],\n",
              "        [0.95984704],\n",
              "        [0.94263862],\n",
              "        ...,\n",
              "        [0.71892925],\n",
              "        [0.79541109],\n",
              "        [0.86615679]],\n",
              "\n",
              "       [[0.18600282],\n",
              "        [0.17989667],\n",
              "        [0.1728511 ],\n",
              "        ...,\n",
              "        [0.19116956],\n",
              "        [0.19445749],\n",
              "        [0.19727572]],\n",
              "\n",
              "       ...,\n",
              "\n",
              "       [[0.26510067],\n",
              "        [0.23993289],\n",
              "        [0.21979866],\n",
              "        ...,\n",
              "        [0.31543624],\n",
              "        [0.29362416],\n",
              "        [0.27348993]],\n",
              "\n",
              "       [[0.64421416],\n",
              "        [0.68911917],\n",
              "        [0.72884283],\n",
              "        ...,\n",
              "        [0.58031088],\n",
              "        [0.56131261],\n",
              "        [0.54576857]],\n",
              "\n",
              "       [[0.21666667],\n",
              "        [0.23166667],\n",
              "        [0.25166667],\n",
              "        ...,\n",
              "        [0.525     ],\n",
              "        [0.49166667],\n",
              "        [0.46      ]]])"
            ]
          },
          "metadata": {},
          "execution_count": 70
        }
      ]
    },
    {
      "cell_type": "code",
      "source": [
        "from keras import backend as K\n",
        "from keras import Model as md\n",
        "from keras import regularizers\n",
        "K.clear_session()\n",
        "def LSTM_Model(input_dim,num_class):\n",
        "  model = Sequential()\n",
        "  model.add(layers.LSTM(64, return_sequences=True, input_shape = (X_train_reshape.shape[1],1)))\n",
        "  #model.add(layers.Dense(25,activation='relu'))\n",
        "  model.add(layers.Dropout(0.5))\n",
        "  model.add(layers.LSTM(32,return_sequences=False))\n",
        "  model.add(layers.Dense(num_class))\n",
        "  return model\n",
        "Input_dim= X_train_reshape\n",
        "Classes = 1000\n",
        "\n",
        "# # Creating the model on TPU\n",
        "with tpu_strategy.scope():\n",
        "  model = LSTM_Model(input_dim=Input_dim,num_class=Classes)\n",
        "  model.compile(loss='mse',optimizer='adam',metrics=[tf.keras.metrics.RootMeanSquaredError()])\n",
        "  from keras.callbacks import ModelCheckpoint, EarlyStopping\n",
        "  es = EarlyStopping(monitor='val_loss',patience=10, min_delta=1e-3,mode='auto')\n",
        "  model.summary()\n",
        "  #tf.keras.optimizers.SGD(lr=config['train_params']['learn_rate'])\n"
      ],
      "metadata": {
        "colab": {
          "base_uri": "https://localhost:8080/"
        },
        "id": "WpQtI6oWOrCg",
        "outputId": "eda67e75-a3bc-412e-b599-87ccab4f0903"
      },
      "execution_count": 71,
      "outputs": [
        {
          "output_type": "stream",
          "name": "stdout",
          "text": [
            "Model: \"sequential\"\n",
            "_________________________________________________________________\n",
            " Layer (type)                Output Shape              Param #   \n",
            "=================================================================\n",
            " lstm (LSTM)                 (None, 1000, 64)          16896     \n",
            "                                                                 \n",
            " dropout (Dropout)           (None, 1000, 64)          0         \n",
            "                                                                 \n",
            " lstm_1 (LSTM)               (None, 32)                12416     \n",
            "                                                                 \n",
            " dense (Dense)               (None, 1000)              33000     \n",
            "                                                                 \n",
            "=================================================================\n",
            "Total params: 62,312\n",
            "Trainable params: 62,312\n",
            "Non-trainable params: 0\n",
            "_________________________________________________________________\n"
          ]
        }
      ]
    },
    {
      "cell_type": "markdown",
      "source": [
        "### Training the LSTM Model"
      ],
      "metadata": {
        "id": "Q4CEKeWcvU13"
      }
    },
    {
      "cell_type": "code",
      "execution_count": 72,
      "metadata": {
        "colab": {
          "base_uri": "https://localhost:8080/"
        },
        "id": "BkzRcoJDNWr8",
        "outputId": "218e704f-ddf5-4593-ed2d-c09da0ac6b87"
      },
      "outputs": [
        {
          "output_type": "stream",
          "name": "stdout",
          "text": [
            "Epoch 1/50\n",
            "39/39 [==============================] - 23s 395ms/step - loss: 0.0420 - root_mean_squared_error: 0.2049 - val_loss: 0.0254 - val_root_mean_squared_error: 0.1592\n",
            "Epoch 2/50\n",
            "39/39 [==============================] - 11s 282ms/step - loss: 0.0252 - root_mean_squared_error: 0.1587 - val_loss: 0.0246 - val_root_mean_squared_error: 0.1568\n",
            "Epoch 3/50\n",
            "39/39 [==============================] - 11s 282ms/step - loss: 0.0250 - root_mean_squared_error: 0.1580 - val_loss: 0.0246 - val_root_mean_squared_error: 0.1567\n",
            "Epoch 4/50\n",
            "39/39 [==============================] - 11s 283ms/step - loss: 0.0249 - root_mean_squared_error: 0.1578 - val_loss: 0.0245 - val_root_mean_squared_error: 0.1566\n",
            "Epoch 5/50\n",
            "39/39 [==============================] - 11s 281ms/step - loss: 0.0248 - root_mean_squared_error: 0.1574 - val_loss: 0.0243 - val_root_mean_squared_error: 0.1559\n",
            "Epoch 6/50\n",
            "39/39 [==============================] - 11s 281ms/step - loss: 0.0245 - root_mean_squared_error: 0.1567 - val_loss: 0.0242 - val_root_mean_squared_error: 0.1554\n",
            "Epoch 7/50\n",
            "39/39 [==============================] - 11s 282ms/step - loss: 0.0245 - root_mean_squared_error: 0.1564 - val_loss: 0.0241 - val_root_mean_squared_error: 0.1553\n",
            "Epoch 8/50\n",
            "39/39 [==============================] - 11s 283ms/step - loss: 0.0244 - root_mean_squared_error: 0.1562 - val_loss: 0.0240 - val_root_mean_squared_error: 0.1550\n",
            "Epoch 9/50\n",
            "39/39 [==============================] - 11s 282ms/step - loss: 0.0241 - root_mean_squared_error: 0.1553 - val_loss: 0.0235 - val_root_mean_squared_error: 0.1532\n",
            "Epoch 10/50\n",
            "39/39 [==============================] - 11s 282ms/step - loss: 0.0235 - root_mean_squared_error: 0.1534 - val_loss: 0.0232 - val_root_mean_squared_error: 0.1522\n",
            "Epoch 11/50\n",
            "39/39 [==============================] - 11s 280ms/step - loss: 0.0234 - root_mean_squared_error: 0.1529 - val_loss: 0.0230 - val_root_mean_squared_error: 0.1515\n",
            "Epoch 12/50\n",
            "39/39 [==============================] - 11s 282ms/step - loss: 0.0233 - root_mean_squared_error: 0.1526 - val_loss: 0.0230 - val_root_mean_squared_error: 0.1517\n",
            "Epoch 13/50\n",
            "39/39 [==============================] - 11s 283ms/step - loss: 0.0232 - root_mean_squared_error: 0.1524 - val_loss: 0.0228 - val_root_mean_squared_error: 0.1509\n",
            "Epoch 14/50\n",
            "39/39 [==============================] - 11s 284ms/step - loss: 0.0231 - root_mean_squared_error: 0.1520 - val_loss: 0.0227 - val_root_mean_squared_error: 0.1507\n",
            "Epoch 15/50\n",
            "39/39 [==============================] - 11s 283ms/step - loss: 0.0230 - root_mean_squared_error: 0.1516 - val_loss: 0.0226 - val_root_mean_squared_error: 0.1502\n",
            "Epoch 16/50\n",
            "39/39 [==============================] - 11s 283ms/step - loss: 0.0228 - root_mean_squared_error: 0.1511 - val_loss: 0.0224 - val_root_mean_squared_error: 0.1497\n",
            "Epoch 17/50\n",
            "39/39 [==============================] - 11s 281ms/step - loss: 0.0227 - root_mean_squared_error: 0.1506 - val_loss: 0.0223 - val_root_mean_squared_error: 0.1493\n",
            "Epoch 18/50\n",
            "39/39 [==============================] - 11s 282ms/step - loss: 0.0225 - root_mean_squared_error: 0.1501 - val_loss: 0.0221 - val_root_mean_squared_error: 0.1487\n",
            "Epoch 19/50\n",
            "39/39 [==============================] - 11s 283ms/step - loss: 0.0223 - root_mean_squared_error: 0.1493 - val_loss: 0.0219 - val_root_mean_squared_error: 0.1480\n",
            "Epoch 20/50\n",
            "39/39 [==============================] - 11s 284ms/step - loss: 0.0220 - root_mean_squared_error: 0.1484 - val_loss: 0.0216 - val_root_mean_squared_error: 0.1470\n",
            "Epoch 21/50\n",
            "39/39 [==============================] - 11s 285ms/step - loss: 0.0217 - root_mean_squared_error: 0.1474 - val_loss: 0.0214 - val_root_mean_squared_error: 0.1461\n",
            "Epoch 22/50\n",
            "39/39 [==============================] - 11s 285ms/step - loss: 0.0215 - root_mean_squared_error: 0.1467 - val_loss: 0.0212 - val_root_mean_squared_error: 0.1456\n",
            "Epoch 23/50\n",
            "39/39 [==============================] - 11s 283ms/step - loss: 0.0213 - root_mean_squared_error: 0.1461 - val_loss: 0.0210 - val_root_mean_squared_error: 0.1451\n",
            "Epoch 24/50\n",
            "39/39 [==============================] - 11s 286ms/step - loss: 0.0212 - root_mean_squared_error: 0.1456 - val_loss: 0.0209 - val_root_mean_squared_error: 0.1446\n",
            "Epoch 25/50\n",
            "39/39 [==============================] - 11s 285ms/step - loss: 0.0210 - root_mean_squared_error: 0.1450 - val_loss: 0.0207 - val_root_mean_squared_error: 0.1438\n",
            "Epoch 26/50\n",
            "39/39 [==============================] - 11s 282ms/step - loss: 0.0209 - root_mean_squared_error: 0.1447 - val_loss: 0.0206 - val_root_mean_squared_error: 0.1436\n",
            "Epoch 27/50\n",
            "39/39 [==============================] - 11s 284ms/step - loss: 0.0207 - root_mean_squared_error: 0.1439 - val_loss: 0.0203 - val_root_mean_squared_error: 0.1425\n",
            "Epoch 28/50\n",
            "39/39 [==============================] - 11s 295ms/step - loss: 0.0206 - root_mean_squared_error: 0.1436 - val_loss: 0.0204 - val_root_mean_squared_error: 0.1427\n",
            "Epoch 29/50\n",
            "39/39 [==============================] - 11s 290ms/step - loss: 0.0204 - root_mean_squared_error: 0.1428 - val_loss: 0.0200 - val_root_mean_squared_error: 0.1414\n",
            "Epoch 30/50\n",
            "39/39 [==============================] - 11s 283ms/step - loss: 0.0202 - root_mean_squared_error: 0.1422 - val_loss: 0.0199 - val_root_mean_squared_error: 0.1410\n",
            "Epoch 31/50\n",
            "39/39 [==============================] - 11s 286ms/step - loss: 0.0202 - root_mean_squared_error: 0.1421 - val_loss: 0.0198 - val_root_mean_squared_error: 0.1408\n",
            "Epoch 32/50\n",
            "39/39 [==============================] - 11s 284ms/step - loss: 0.0200 - root_mean_squared_error: 0.1414 - val_loss: 0.0197 - val_root_mean_squared_error: 0.1404\n",
            "Epoch 33/50\n",
            "39/39 [==============================] - 11s 284ms/step - loss: 0.0199 - root_mean_squared_error: 0.1409 - val_loss: 0.0196 - val_root_mean_squared_error: 0.1400\n",
            "Epoch 34/50\n",
            "39/39 [==============================] - 11s 283ms/step - loss: 0.0197 - root_mean_squared_error: 0.1405 - val_loss: 0.0194 - val_root_mean_squared_error: 0.1395\n",
            "Epoch 35/50\n",
            "39/39 [==============================] - 11s 289ms/step - loss: 0.0197 - root_mean_squared_error: 0.1402 - val_loss: 0.0196 - val_root_mean_squared_error: 0.1399\n",
            "Epoch 36/50\n",
            "39/39 [==============================] - 11s 285ms/step - loss: 0.0196 - root_mean_squared_error: 0.1398 - val_loss: 0.0193 - val_root_mean_squared_error: 0.1389\n",
            "Epoch 37/50\n",
            "39/39 [==============================] - 11s 285ms/step - loss: 0.0194 - root_mean_squared_error: 0.1393 - val_loss: 0.0191 - val_root_mean_squared_error: 0.1382\n",
            "Epoch 38/50\n",
            "39/39 [==============================] - 11s 284ms/step - loss: 0.0192 - root_mean_squared_error: 0.1387 - val_loss: 0.0189 - val_root_mean_squared_error: 0.1375\n",
            "Epoch 39/50\n",
            "39/39 [==============================] - 11s 284ms/step - loss: 0.0192 - root_mean_squared_error: 0.1384 - val_loss: 0.0188 - val_root_mean_squared_error: 0.1372\n",
            "Epoch 40/50\n",
            "39/39 [==============================] - 11s 284ms/step - loss: 0.0190 - root_mean_squared_error: 0.1377 - val_loss: 0.0187 - val_root_mean_squared_error: 0.1366\n",
            "Epoch 41/50\n",
            "39/39 [==============================] - 11s 288ms/step - loss: 0.0223 - root_mean_squared_error: 0.1495 - val_loss: 0.0237 - val_root_mean_squared_error: 0.1540\n",
            "Epoch 42/50\n",
            "39/39 [==============================] - 11s 285ms/step - loss: 0.0232 - root_mean_squared_error: 0.1523 - val_loss: 0.0222 - val_root_mean_squared_error: 0.1491\n",
            "Epoch 43/50\n",
            "39/39 [==============================] - 11s 287ms/step - loss: 0.0222 - root_mean_squared_error: 0.1491 - val_loss: 0.0215 - val_root_mean_squared_error: 0.1466\n",
            "Epoch 44/50\n",
            "39/39 [==============================] - 11s 283ms/step - loss: 0.0216 - root_mean_squared_error: 0.1470 - val_loss: 0.0209 - val_root_mean_squared_error: 0.1447\n",
            "Epoch 45/50\n",
            "39/39 [==============================] - 11s 289ms/step - loss: 0.0211 - root_mean_squared_error: 0.1452 - val_loss: 0.0204 - val_root_mean_squared_error: 0.1430\n",
            "Epoch 46/50\n",
            "39/39 [==============================] - 11s 287ms/step - loss: 0.0206 - root_mean_squared_error: 0.1436 - val_loss: 0.0200 - val_root_mean_squared_error: 0.1414\n",
            "Epoch 47/50\n",
            "39/39 [==============================] - 11s 284ms/step - loss: 0.0201 - root_mean_squared_error: 0.1416 - val_loss: 0.0197 - val_root_mean_squared_error: 0.1403\n",
            "Epoch 48/50\n",
            "39/39 [==============================] - 11s 287ms/step - loss: 0.0198 - root_mean_squared_error: 0.1406 - val_loss: 0.0193 - val_root_mean_squared_error: 0.1389\n"
          ]
        }
      ],
      "source": [
        "# Training the LSTM model\n",
        "LSTM_model_train = model.fit(X_train_reshape[:config['train_size']], # using the first 3 million rows.\n",
        "                    y_train[:config['train_size']],\n",
        "                    validation_split=0.1,\n",
        "                    epochs=config['train_params']['epochs'],\n",
        "                    batch_size=Batch_size,\n",
        "                    callbacks=[es],\n",
        "                    shuffle=False,\n",
        "                    verbose = 1\n",
        "                   )"
      ]
    },
    {
      "cell_type": "markdown",
      "source": [
        "### Prediction of BP values from normalized PPG values from test set - LSTM"
      ],
      "metadata": {
        "id": "SzS1U-OTvsdF"
      }
    },
    {
      "cell_type": "code",
      "execution_count": 73,
      "metadata": {
        "id": "Sa2FLxj9PmRV",
        "colab": {
          "base_uri": "https://localhost:8080/"
        },
        "outputId": "83bebc66-916a-44f0-88ff-5203d0308f75"
      },
      "outputs": [
        {
          "output_type": "stream",
          "name": "stdout",
          "text": [
            "LSTM Model RMSE: 0.13831490278244019\n"
          ]
        }
      ],
      "source": [
        "#Predicting on the test set using the LSTM model\n",
        "LSTM_predictions = model.predict(X_test_reshape[:config['train_size']])\n",
        "rmse = tf.keras.metrics.RootMeanSquaredError()\n",
        "rmse.update_state(y_test[:config['train_size']], LSTM_predictions)\n",
        "print(f'LSTM Model RMSE: {rmse.result().numpy()}')"
      ]
    },
    {
      "cell_type": "code",
      "source": [
        "len(LSTM_predictions)"
      ],
      "metadata": {
        "colab": {
          "base_uri": "https://localhost:8080/"
        },
        "id": "aBskapF2CoIg",
        "outputId": "cbe48e61-9ea3-40ea-ffa7-068ee01c18ba"
      },
      "execution_count": 74,
      "outputs": [
        {
          "output_type": "execute_result",
          "data": {
            "text/plain": [
              "4646"
            ]
          },
          "metadata": {},
          "execution_count": 74
        }
      ]
    },
    {
      "cell_type": "code",
      "source": [
        "type(LSTM_predictions)"
      ],
      "metadata": {
        "colab": {
          "base_uri": "https://localhost:8080/"
        },
        "id": "mYcgNSTvl7m5",
        "outputId": "7865e96a-5dbb-477c-cecf-3f33d3bb2a7c"
      },
      "execution_count": 75,
      "outputs": [
        {
          "output_type": "execute_result",
          "data": {
            "text/plain": [
              "numpy.ndarray"
            ]
          },
          "metadata": {},
          "execution_count": 75
        }
      ]
    },
    {
      "cell_type": "code",
      "source": [
        "LSTM_predictions.shape"
      ],
      "metadata": {
        "colab": {
          "base_uri": "https://localhost:8080/"
        },
        "id": "2XoQK7iAmE5I",
        "outputId": "c3545e93-b8ca-4098-c9fe-4ac1f1533347"
      },
      "execution_count": 76,
      "outputs": [
        {
          "output_type": "execute_result",
          "data": {
            "text/plain": [
              "(4646, 1000)"
            ]
          },
          "metadata": {},
          "execution_count": 76
        }
      ]
    },
    {
      "cell_type": "code",
      "source": [
        "LSTM_predictions"
      ],
      "metadata": {
        "colab": {
          "base_uri": "https://localhost:8080/"
        },
        "id": "XjsXbULRlsnb",
        "outputId": "82522a7a-0793-48f9-b1c0-84c516431166"
      },
      "execution_count": 77,
      "outputs": [
        {
          "output_type": "execute_result",
          "data": {
            "text/plain": [
              "array([[0.19152571, 0.18335845, 0.19677268, ..., 0.09806899, 0.09883092,\n",
              "        0.09095044],\n",
              "       [0.21813783, 0.21172224, 0.19692402, ..., 0.22914717, 0.21577534,\n",
              "        0.21723883],\n",
              "       [0.20132667, 0.20465308, 0.19045164, ..., 0.25356755, 0.23360398,\n",
              "        0.22174843],\n",
              "       ...,\n",
              "       [0.25792763, 0.26895076, 0.26685026, ..., 0.31023058, 0.309644  ,\n",
              "        0.30909583],\n",
              "       [0.20853984, 0.21050468, 0.20190416, ..., 0.11058972, 0.11233098,\n",
              "        0.11238559],\n",
              "       [0.2541643 , 0.2552071 , 0.2595083 , ..., 0.13340363, 0.13767678,\n",
              "        0.13646974]], dtype=float32)"
            ]
          },
          "metadata": {},
          "execution_count": 77
        }
      ]
    },
    {
      "cell_type": "code",
      "source": [
        "y_test"
      ],
      "metadata": {
        "colab": {
          "base_uri": "https://localhost:8080/"
        },
        "id": "ddGyunW-Cs_X",
        "outputId": "f9c6e548-adce-4627-df42-99eb9427aebd"
      },
      "execution_count": 78,
      "outputs": [
        {
          "output_type": "execute_result",
          "data": {
            "text/plain": [
              "array([[0.12038274, 0.11386383, 0.1086487 , ..., 0.06692768, 0.06432012,\n",
              "        0.06040877],\n",
              "       [0.08387685, 0.08126928, 0.07866172, ..., 0.11125627, 0.1086487 ,\n",
              "        0.10604114],\n",
              "       [0.03527684, 0.03462559, 0.0336487 , ..., 0.26907729, 0.24823713,\n",
              "        0.22707136],\n",
              "       ...,\n",
              "       [0.3667975 , 0.34724077, 0.33289917, ..., 0.45806223, 0.4385055 ,\n",
              "        0.41503743],\n",
              "       [0.15558485, 0.15428107, 0.1516735 , ..., 0.08909197, 0.08778819,\n",
              "        0.08518063],\n",
              "       [0.35506346, 0.39808826, 0.4385055 , ..., 0.28987437, 0.28726681,\n",
              "        0.28465925]])"
            ]
          },
          "metadata": {},
          "execution_count": 78
        }
      ]
    },
    {
      "cell_type": "code",
      "execution_count": 79,
      "metadata": {
        "id": "gKtiWv3RNlj5",
        "colab": {
          "base_uri": "https://localhost:8080/"
        },
        "outputId": "fd853848-d536-4a66-b9d8-d95400b840dd"
      },
      "outputs": [
        {
          "output_type": "stream",
          "name": "stdout",
          "text": [
            "LSTM Model MAE: 0.10539636760950089\n"
          ]
        }
      ],
      "source": [
        "# MAE for LSTM Model\n",
        "MAE= tf.keras.metrics.MeanAbsoluteError()\n",
        "MAE.update_state(y_test, LSTM_predictions)\n",
        "print(f'LSTM Model MAE: {MAE.result().numpy()}')"
      ]
    },
    {
      "cell_type": "code",
      "source": [
        "# To check if there are no NaN values in LSTM_predictions and y_test\n",
        "print(len(y_test))\n",
        "print(len(LSTM_predictions))\n",
        "\n",
        "print(np.isnan(y_test).any())\n",
        "print(np.isnan(LSTM_predictions).any())\n",
        "\n",
        "print(np.argwhere(np.isnan(y_test)))\n"
      ],
      "metadata": {
        "colab": {
          "base_uri": "https://localhost:8080/"
        },
        "id": "A1yJLuX5RBA3",
        "outputId": "80a19d43-e34b-4a90-e9cb-f6bb177f0bef"
      },
      "execution_count": 80,
      "outputs": [
        {
          "output_type": "stream",
          "name": "stdout",
          "text": [
            "4646\n",
            "4646\n",
            "False\n",
            "False\n",
            "[]\n"
          ]
        }
      ]
    },
    {
      "cell_type": "code",
      "source": [
        "#Scaling back y_test and LSTM_predictions to original values to calculate Mean Arterial Pressure (MAP) Error for ANN model\n",
        "y_tlstm_sb = y_test*(x_max - x_min) +x_min\n",
        "LSTM_pred_sb = LSTM_predictions*(x_max - x_min) +x_min "
      ],
      "metadata": {
        "id": "4WxY8fI6Jl1b"
      },
      "execution_count": 81,
      "outputs": []
    },
    {
      "cell_type": "code",
      "source": [
        "x_max"
      ],
      "metadata": {
        "colab": {
          "base_uri": "https://localhost:8080/"
        },
        "id": "Vdy58_kzJ6iR",
        "outputId": "4d4af5db-e335-4e4c-9bb4-deb18c93e138"
      },
      "execution_count": 82,
      "outputs": [
        {
          "output_type": "execute_result",
          "data": {
            "text/plain": [
              "200.0"
            ]
          },
          "metadata": {},
          "execution_count": 82
        }
      ]
    },
    {
      "cell_type": "code",
      "source": [
        "x_min"
      ],
      "metadata": {
        "colab": {
          "base_uri": "https://localhost:8080/"
        },
        "id": "B0VWkJ7KJ8Is",
        "outputId": "593f9ad9-ab72-4cd3-c6b6-4d3758f0e720"
      },
      "execution_count": 83,
      "outputs": [
        {
          "output_type": "execute_result",
          "data": {
            "text/plain": [
              "50.0"
            ]
          },
          "metadata": {},
          "execution_count": 83
        }
      ]
    },
    {
      "cell_type": "code",
      "source": [
        "y_tlstm_sb"
      ],
      "metadata": {
        "colab": {
          "base_uri": "https://localhost:8080/"
        },
        "id": "_CPXxvYoJ2yE",
        "outputId": "1f4acc94-b364-475d-8235-3ad65eb4208f"
      },
      "execution_count": 84,
      "outputs": [
        {
          "output_type": "execute_result",
          "data": {
            "text/plain": [
              "array([[ 68.05741073,  67.07957437,  66.29730528, ...,  60.03915257,\n",
              "         59.64801802,  59.06131621],\n",
              "       [ 62.58152711,  62.19039256,  61.79925802, ...,  66.68843982,\n",
              "         66.29730528,  65.90617073],\n",
              "       [ 55.29152604,  55.19383783,  55.04730551, ...,  90.3615929 ,\n",
              "         87.23557023,  84.06070345],\n",
              "       ...,\n",
              "       [105.01962518, 102.08611609,  99.9348761 , ..., 118.70933423,\n",
              "        115.77582515, 112.25561425],\n",
              "       [ 73.33772708,  73.14215981,  72.75102526, ...,  63.3637962 ,\n",
              "         63.16822892,  62.77709438],\n",
              "       [103.25951973, 109.71323971, 115.77582515, ...,  93.48115612,\n",
              "         93.09002157,  92.69888703]])"
            ]
          },
          "metadata": {},
          "execution_count": 84
        }
      ]
    },
    {
      "cell_type": "code",
      "source": [
        "LSTM_pred_sb"
      ],
      "metadata": {
        "colab": {
          "base_uri": "https://localhost:8080/"
        },
        "id": "obB0lhTxJ376",
        "outputId": "cc987559-bad9-4ebf-ff58-4112a6f82421"
      },
      "execution_count": 85,
      "outputs": [
        {
          "output_type": "execute_result",
          "data": {
            "text/plain": [
              "array([[78.72886 , 77.50377 , 79.5159  , ..., 64.71035 , 64.82464 ,\n",
              "        63.642567],\n",
              "       [82.72067 , 81.75833 , 79.538605, ..., 84.37207 , 82.3663  ,\n",
              "        82.58582 ],\n",
              "       [80.199   , 80.69796 , 78.56775 , ..., 88.03513 , 85.040596,\n",
              "        83.26227 ],\n",
              "       ...,\n",
              "       [88.68915 , 90.34261 , 90.02754 , ..., 96.53459 , 96.4466  ,\n",
              "        96.36438 ],\n",
              "       [81.280975, 81.5757  , 80.28562 , ..., 66.588455, 66.84965 ,\n",
              "        66.857834],\n",
              "       [88.12465 , 88.28107 , 88.92625 , ..., 70.010544, 70.65152 ,\n",
              "        70.47046 ]], dtype=float32)"
            ]
          },
          "metadata": {},
          "execution_count": 85
        }
      ]
    },
    {
      "cell_type": "code",
      "source": [
        "#Checking MAP error for LSTM model\n",
        "score = []\n",
        "for i in range(len(y_tlstm_sb)):\n",
        "  score.append(abs(y_tlstm_sb[i]-LSTM_pred_sb[i]))\n",
        "\n",
        "print(\"Average MAP error of LSTM model is: %f mmHG\" %(np.mean(score)))\n",
        "print(\"Standard Deviation of LSTM Model is: %f mmHG\" %(np.std(score)))"
      ],
      "metadata": {
        "colab": {
          "base_uri": "https://localhost:8080/"
        },
        "id": "zWv-L9JDRTzK",
        "outputId": "8d81153c-cd8a-4914-e8bf-3765fe2e53c4"
      },
      "execution_count": 86,
      "outputs": [
        {
          "output_type": "stream",
          "name": "stdout",
          "text": [
            "Average MAP error of LSTM model is: 15.809455 mmHG\n",
            "Standard Deviation of LSTM Model is: 13.435360 mmHG\n"
          ]
        }
      ]
    },
    {
      "cell_type": "markdown",
      "source": [
        "### Plotting graph for Train Loss vs RMSE using LSTM model\n",
        "(with Normalized PPG and BP values)"
      ],
      "metadata": {
        "id": "HB15NlbEv2PV"
      }
    },
    {
      "cell_type": "code",
      "execution_count": 87,
      "metadata": {
        "id": "DKFB28NhVz1t",
        "colab": {
          "base_uri": "https://localhost:8080/",
          "height": 312
        },
        "outputId": "db82168d-687d-4a6d-8577-4812a5bda902"
      },
      "outputs": [
        {
          "output_type": "execute_result",
          "data": {
            "text/plain": [
              "<matplotlib.legend.Legend at 0x7f330fe35b10>"
            ]
          },
          "metadata": {},
          "execution_count": 87
        },
        {
          "output_type": "display_data",
          "data": {
            "text/plain": [
              "<Figure size 432x288 with 1 Axes>"
            ],
            "image/png": "[encoded data removed]"
          },
          "metadata": {
            "needs_background": "light"
          }
        }
      ],
      "source": [
        "#Visualizing LSTM model Train Loss vs RMSE in LSTM model\n",
        "plt.title('Train loss against Root_Mean_Squared_error in LSTM model')\n",
        "plt.ylabel('Loss')\n",
        "plt.xlabel('Epoch')\n",
        "plt.plot(LSTM_model_train.history['loss'])\n",
        "plt.plot(LSTM_model_train.history['root_mean_squared_error'])\n",
        "plt.legend(['Loss', 'Root_Mean_Squared_error'])"
      ]
    },
    {
      "cell_type": "markdown",
      "source": [
        "### Plotting graph for True vs Predicted BP values using LSTM Model\n",
        "(with Normalized PPG and BP values)"
      ],
      "metadata": {
        "id": "zeXuinwywELd"
      }
    },
    {
      "cell_type": "code",
      "execution_count": 88,
      "metadata": {
        "id": "DO18UZubWqFQ",
        "colab": {
          "base_uri": "https://localhost:8080/",
          "height": 312
        },
        "outputId": "e8e701ae-e8a1-450e-9c8f-9c6967b91f27"
      },
      "outputs": [
        {
          "output_type": "execute_result",
          "data": {
            "text/plain": [
              "<matplotlib.legend.Legend at 0x7f330dfadad0>"
            ]
          },
          "metadata": {},
          "execution_count": 88
        },
        {
          "output_type": "display_data",
          "data": {
            "text/plain": [
              "<Figure size 432x288 with 1 Axes>"
            ],
            "image/png": "[encoded data removed]"
          },
          "metadata": {
            "needs_background": "light"
          }
        }
      ],
      "source": [
        "# Visualize predicted BP and the True BP for LSTM model\n",
        "plt.title(\"===True BP values Vs Predicted BP values in LSTM Model===\")\n",
        "plt.xlabel('Number of samples taken')\n",
        "plt.ylabel('BP values')\n",
        "plt.plot(y_test[1000,:]) #only plotting 100 samples\n",
        "plt.plot(LSTM_predictions[1000,:])\n",
        "plt.legend(['True_BP', 'Predicted_BP'])"
      ]
    }
  ],
  "metadata": {
    "accelerator": "TPU",
    "colab": {
      "collapsed_sections": [],
      "machine_shape": "hm",
      "name": "Predicting_Blood_Pressure_Signal.ipynb",
      "provenance": []
    },
    "kernelspec": {
      "display_name": "Python 3",
      "name": "python3"
    }
  },
  "nbformat": 4,
  "nbformat_minor": 0
}